{
 "cells": [
  {
   "cell_type": "markdown",
   "id": "34bb11e5-0659-49ad-9d6e-1f2e03c490f5",
   "metadata": {},
   "source": [
    "# Arrival Delays in Atlanta Flights\n",
    "### by Micah Costello\n",
    "\n",
    "In this project, I'll be analyzing flight data for a sample of domestic flights to and from Atlanta, Georgia (airport code ATL), from 1987 through 2008. \n",
    "\n",
    "The data comes from a zip file from the website https://community.amstat.org/jointscsg-section/dataexpo/dataexpo2009. As the data comes as a collection of csv files for *all* domestic flights for each year, I will have to perform some preliminary gathering to get a sample of the ATL flights. \n",
    "\n",
    "# Data Gathering\n",
    "Since there are so many flights to consider, I'll only take a sample of 20,000 flights per year, for a total of 440,000 flights before data cleaning."
   ]
  },
  {
   "cell_type": "code",
   "execution_count": 1,
   "id": "19a6515c-58c2-44d9-a626-88a9f11a7d51",
   "metadata": {},
   "outputs": [],
   "source": [
    "# import libraries I'm sure to use\n",
    "import pandas as pd\n",
    "import numpy as np\n",
    "import glob\n",
    "import matplotlib.pyplot as plt\n",
    "import seaborn as sb"
   ]
  },
  {
   "cell_type": "code",
   "execution_count": 2,
   "id": "d9207118-bdb0-4df3-921b-50eeefe06b49",
   "metadata": {},
   "outputs": [],
   "source": [
    "# empty df to append to\n",
    "df = pd.DataFrame()\n",
    "\n",
    "# loop through files in directory that are flight years\n",
    "for flight_year in glob.glob('DataExpo2009/*.csv.bz2'):\n",
    "    temp_df = pd.read_csv(flight_year, encoding = 'latin-1') # make df for flight year\n",
    "    atl_flights = temp_df[(temp_df.Origin == 'ATL') | # make df of all flights for flight year from/to ATL \n",
    "                              (temp_df.Dest == 'ATL')]\n",
    "    df = df.append(atl_flights.sample(20000)) # append sample to empty df\n",
    "    print(str(atl_flights.Year.unique()[0]) + ' appending complete')"
   ]
  },
  {
   "cell_type": "code",
   "execution_count": 3,
   "id": "203c7126-ca9e-45e0-99df-eb055188c9fd",
   "metadata": {},
   "outputs": [],
   "source": [
    "df.to_csv('combined_atl_flights.csv', index = False)"
   ]
  },
  {
   "cell_type": "markdown",
   "id": "fdacfd18-f8d1-411b-b91f-786d2f23b7a6",
   "metadata": {},
   "source": [
    "# Assessment\n",
    "Now I'll assess the data I've just gathered, to check for any issues that may need to be cleaned. "
   ]
  },
  {
   "cell_type": "code",
   "execution_count": 4,
   "id": "34d71e01-69dc-49dd-b611-e67caeec490e",
   "metadata": {},
   "outputs": [],
   "source": [
    "# read csv to frame\n",
    "df = pd.read_csv('combined_atl_flights.csv', dtype = {'TailNum': 'object', 'CancellationCode': 'object'} )"
   ]
  },
  {
   "cell_type": "code",
   "execution_count": 5,
   "id": "dd5b31b2-99cd-4089-af31-1ccee28ee307",
   "metadata": {},
   "outputs": [
    {
     "name": "stdout",
     "output_type": "stream",
     "text": [
      "<class 'pandas.core.frame.DataFrame'>\n",
      "RangeIndex: 440000 entries, 0 to 439999\n",
      "Data columns (total 29 columns):\n",
      " #   Column             Non-Null Count   Dtype  \n",
      "---  ------             --------------   -----  \n",
      " 0   Year               440000 non-null  int64  \n",
      " 1   Month              440000 non-null  int64  \n",
      " 2   DayofMonth         440000 non-null  int64  \n",
      " 3   DayOfWeek          440000 non-null  int64  \n",
      " 4   DepTime            432244 non-null  float64\n",
      " 5   CRSDepTime         440000 non-null  int64  \n",
      " 6   ArrTime            431393 non-null  float64\n",
      " 7   CRSArrTime         440000 non-null  int64  \n",
      " 8   UniqueCarrier      440000 non-null  object \n",
      " 9   FlightNum          440000 non-null  int64  \n",
      " 10  TailNum            279927 non-null  object \n",
      " 11  ActualElapsedTime  431384 non-null  float64\n",
      " 12  CRSElapsedTime     439969 non-null  float64\n",
      " 13  AirTime            273693 non-null  float64\n",
      " 14  ArrDelay           431384 non-null  float64\n",
      " 15  DepDelay           432244 non-null  float64\n",
      " 16  Origin             440000 non-null  object \n",
      " 17  Dest               440000 non-null  object \n",
      " 18  Distance           439736 non-null  float64\n",
      " 19  TaxiIn             279638 non-null  float64\n",
      " 20  TaxiOut            279681 non-null  float64\n",
      " 21  Cancelled          440000 non-null  int64  \n",
      " 22  CancellationCode   2178 non-null    object \n",
      " 23  Diverted           440000 non-null  int64  \n",
      " 24  CarrierDelay       96573 non-null   float64\n",
      " 25  WeatherDelay       96573 non-null   float64\n",
      " 26  NASDelay           96573 non-null   float64\n",
      " 27  SecurityDelay      96573 non-null   float64\n",
      " 28  LateAircraftDelay  96573 non-null   float64\n",
      "dtypes: float64(15), int64(9), object(5)\n",
      "memory usage: 97.4+ MB\n",
      "None\n"
     ]
    },
    {
     "data": {
      "text/html": [
       "<div>\n",
       "<style scoped>\n",
       "    .dataframe tbody tr th:only-of-type {\n",
       "        vertical-align: middle;\n",
       "    }\n",
       "\n",
       "    .dataframe tbody tr th {\n",
       "        vertical-align: top;\n",
       "    }\n",
       "\n",
       "    .dataframe thead th {\n",
       "        text-align: right;\n",
       "    }\n",
       "</style>\n",
       "<table border=\"1\" class=\"dataframe\">\n",
       "  <thead>\n",
       "    <tr style=\"text-align: right;\">\n",
       "      <th></th>\n",
       "      <th>Year</th>\n",
       "      <th>Month</th>\n",
       "      <th>DayofMonth</th>\n",
       "      <th>DayOfWeek</th>\n",
       "      <th>DepTime</th>\n",
       "      <th>CRSDepTime</th>\n",
       "      <th>ArrTime</th>\n",
       "      <th>CRSArrTime</th>\n",
       "      <th>UniqueCarrier</th>\n",
       "      <th>FlightNum</th>\n",
       "      <th>...</th>\n",
       "      <th>TaxiIn</th>\n",
       "      <th>TaxiOut</th>\n",
       "      <th>Cancelled</th>\n",
       "      <th>CancellationCode</th>\n",
       "      <th>Diverted</th>\n",
       "      <th>CarrierDelay</th>\n",
       "      <th>WeatherDelay</th>\n",
       "      <th>NASDelay</th>\n",
       "      <th>SecurityDelay</th>\n",
       "      <th>LateAircraftDelay</th>\n",
       "    </tr>\n",
       "  </thead>\n",
       "  <tbody>\n",
       "    <tr>\n",
       "      <th>0</th>\n",
       "      <td>1991</td>\n",
       "      <td>9</td>\n",
       "      <td>19</td>\n",
       "      <td>4</td>\n",
       "      <td>1026.0</td>\n",
       "      <td>1027</td>\n",
       "      <td>1242.0</td>\n",
       "      <td>1220</td>\n",
       "      <td>DL</td>\n",
       "      <td>1076</td>\n",
       "      <td>...</td>\n",
       "      <td>NaN</td>\n",
       "      <td>NaN</td>\n",
       "      <td>0</td>\n",
       "      <td>NaN</td>\n",
       "      <td>0</td>\n",
       "      <td>NaN</td>\n",
       "      <td>NaN</td>\n",
       "      <td>NaN</td>\n",
       "      <td>NaN</td>\n",
       "      <td>NaN</td>\n",
       "    </tr>\n",
       "    <tr>\n",
       "      <th>1</th>\n",
       "      <td>1991</td>\n",
       "      <td>5</td>\n",
       "      <td>6</td>\n",
       "      <td>1</td>\n",
       "      <td>1323.0</td>\n",
       "      <td>1319</td>\n",
       "      <td>1535.0</td>\n",
       "      <td>1530</td>\n",
       "      <td>DL</td>\n",
       "      <td>978</td>\n",
       "      <td>...</td>\n",
       "      <td>NaN</td>\n",
       "      <td>NaN</td>\n",
       "      <td>0</td>\n",
       "      <td>NaN</td>\n",
       "      <td>0</td>\n",
       "      <td>NaN</td>\n",
       "      <td>NaN</td>\n",
       "      <td>NaN</td>\n",
       "      <td>NaN</td>\n",
       "      <td>NaN</td>\n",
       "    </tr>\n",
       "    <tr>\n",
       "      <th>2</th>\n",
       "      <td>1991</td>\n",
       "      <td>1</td>\n",
       "      <td>20</td>\n",
       "      <td>7</td>\n",
       "      <td>755.0</td>\n",
       "      <td>750</td>\n",
       "      <td>1225.0</td>\n",
       "      <td>1229</td>\n",
       "      <td>DL</td>\n",
       "      <td>402</td>\n",
       "      <td>...</td>\n",
       "      <td>NaN</td>\n",
       "      <td>NaN</td>\n",
       "      <td>0</td>\n",
       "      <td>NaN</td>\n",
       "      <td>0</td>\n",
       "      <td>NaN</td>\n",
       "      <td>NaN</td>\n",
       "      <td>NaN</td>\n",
       "      <td>NaN</td>\n",
       "      <td>NaN</td>\n",
       "    </tr>\n",
       "    <tr>\n",
       "      <th>3</th>\n",
       "      <td>1991</td>\n",
       "      <td>3</td>\n",
       "      <td>25</td>\n",
       "      <td>1</td>\n",
       "      <td>1005.0</td>\n",
       "      <td>1000</td>\n",
       "      <td>1104.0</td>\n",
       "      <td>1107</td>\n",
       "      <td>DL</td>\n",
       "      <td>1045</td>\n",
       "      <td>...</td>\n",
       "      <td>NaN</td>\n",
       "      <td>NaN</td>\n",
       "      <td>0</td>\n",
       "      <td>NaN</td>\n",
       "      <td>0</td>\n",
       "      <td>NaN</td>\n",
       "      <td>NaN</td>\n",
       "      <td>NaN</td>\n",
       "      <td>NaN</td>\n",
       "      <td>NaN</td>\n",
       "    </tr>\n",
       "    <tr>\n",
       "      <th>4</th>\n",
       "      <td>1991</td>\n",
       "      <td>12</td>\n",
       "      <td>9</td>\n",
       "      <td>1</td>\n",
       "      <td>2214.0</td>\n",
       "      <td>2215</td>\n",
       "      <td>2323.0</td>\n",
       "      <td>2317</td>\n",
       "      <td>DL</td>\n",
       "      <td>585</td>\n",
       "      <td>...</td>\n",
       "      <td>NaN</td>\n",
       "      <td>NaN</td>\n",
       "      <td>0</td>\n",
       "      <td>NaN</td>\n",
       "      <td>0</td>\n",
       "      <td>NaN</td>\n",
       "      <td>NaN</td>\n",
       "      <td>NaN</td>\n",
       "      <td>NaN</td>\n",
       "      <td>NaN</td>\n",
       "    </tr>\n",
       "  </tbody>\n",
       "</table>\n",
       "<p>5 rows × 29 columns</p>\n",
       "</div>"
      ],
      "text/plain": [
       "   Year  Month  DayofMonth  DayOfWeek  DepTime  CRSDepTime  ArrTime  \\\n",
       "0  1991      9          19          4   1026.0        1027   1242.0   \n",
       "1  1991      5           6          1   1323.0        1319   1535.0   \n",
       "2  1991      1          20          7    755.0         750   1225.0   \n",
       "3  1991      3          25          1   1005.0        1000   1104.0   \n",
       "4  1991     12           9          1   2214.0        2215   2323.0   \n",
       "\n",
       "   CRSArrTime UniqueCarrier  FlightNum  ... TaxiIn  TaxiOut  Cancelled  \\\n",
       "0        1220            DL       1076  ...    NaN      NaN          0   \n",
       "1        1530            DL        978  ...    NaN      NaN          0   \n",
       "2        1229            DL        402  ...    NaN      NaN          0   \n",
       "3        1107            DL       1045  ...    NaN      NaN          0   \n",
       "4        2317            DL        585  ...    NaN      NaN          0   \n",
       "\n",
       "   CancellationCode  Diverted  CarrierDelay WeatherDelay NASDelay  \\\n",
       "0               NaN         0           NaN          NaN      NaN   \n",
       "1               NaN         0           NaN          NaN      NaN   \n",
       "2               NaN         0           NaN          NaN      NaN   \n",
       "3               NaN         0           NaN          NaN      NaN   \n",
       "4               NaN         0           NaN          NaN      NaN   \n",
       "\n",
       "   SecurityDelay  LateAircraftDelay  \n",
       "0            NaN                NaN  \n",
       "1            NaN                NaN  \n",
       "2            NaN                NaN  \n",
       "3            NaN                NaN  \n",
       "4            NaN                NaN  \n",
       "\n",
       "[5 rows x 29 columns]"
      ]
     },
     "execution_count": 5,
     "metadata": {},
     "output_type": "execute_result"
    }
   ],
   "source": [
    "# take a look at dataset structure, NaNs and first few rows\n",
    "print(df.info())\n",
    "df.head()"
   ]
  },
  {
   "cell_type": "markdown",
   "id": "33f7e1a3-c56c-4c4e-b724-dd96151809df",
   "metadata": {},
   "source": [
    "I see the following problems from initial assessment:\n",
    "* All column names are capitalized: this is cumbersome\n",
    "* Some flights may be cancelled or diverted: investigation below\n",
    "* Needs date column\n",
    "* Data is not organized by date\n",
    "* 'month' column could be month names like \"January\" instead of int, also ordered categorical dtype\n",
    "* 'dayofweek' column could be names instead of int, also ordered categorical dtype\n",
    "* The time columns are integers and floats, should be datetime in proper format\n",
    "* from `.info()` I see that all the delay columns except arrival and departure have the same amount of non-null values. Investigation below."
   ]
  },
  {
   "cell_type": "markdown",
   "id": "846b394f-4deb-48e9-ba0d-41ba5386408e",
   "metadata": {},
   "source": [
    "### Cancelled or Diverted flights\n",
    "I'll check to see if any flights were cancelled or diverted. "
   ]
  },
  {
   "cell_type": "code",
   "execution_count": 6,
   "id": "ed392315-6180-4c9b-87ce-46880f542644",
   "metadata": {},
   "outputs": [
    {
     "data": {
      "text/plain": [
       "8616"
      ]
     },
     "execution_count": 6,
     "metadata": {},
     "output_type": "execute_result"
    }
   ],
   "source": [
    "# get number of cancelled/delayed flights\n",
    "df[(df.Cancelled == 1) | (df.Diverted == 1)].shape[0]"
   ]
  },
  {
   "cell_type": "markdown",
   "id": "2df68066-ce00-4b3f-bd48-0f6b238051e1",
   "metadata": {},
   "source": [
    "A significant amount of flights were cancelled or diverted. I will want to remove these flights before analysis. Added to cleaning list."
   ]
  },
  {
   "cell_type": "markdown",
   "id": "b8bd65e7-514a-4e2d-8b91-4e979f329e1e",
   "metadata": {},
   "source": [
    "### Delay columns all have same amount of Non-null values\n",
    "I'll take a quick look at one of the columns to see if it illuminates me. "
   ]
  },
  {
   "cell_type": "code",
   "execution_count": 7,
   "id": "d92e8151-3ef9-4ac3-a65e-84cda25c04fb",
   "metadata": {},
   "outputs": [
    {
     "data": {
      "text/html": [
       "<div>\n",
       "<style scoped>\n",
       "    .dataframe tbody tr th:only-of-type {\n",
       "        vertical-align: middle;\n",
       "    }\n",
       "\n",
       "    .dataframe tbody tr th {\n",
       "        vertical-align: top;\n",
       "    }\n",
       "\n",
       "    .dataframe thead th {\n",
       "        text-align: right;\n",
       "    }\n",
       "</style>\n",
       "<table border=\"1\" class=\"dataframe\">\n",
       "  <thead>\n",
       "    <tr style=\"text-align: right;\">\n",
       "      <th></th>\n",
       "      <th>Year</th>\n",
       "      <th>Month</th>\n",
       "      <th>DayofMonth</th>\n",
       "      <th>DayOfWeek</th>\n",
       "      <th>DepTime</th>\n",
       "      <th>CRSDepTime</th>\n",
       "      <th>ArrTime</th>\n",
       "      <th>CRSArrTime</th>\n",
       "      <th>UniqueCarrier</th>\n",
       "      <th>FlightNum</th>\n",
       "      <th>...</th>\n",
       "      <th>TaxiIn</th>\n",
       "      <th>TaxiOut</th>\n",
       "      <th>Cancelled</th>\n",
       "      <th>CancellationCode</th>\n",
       "      <th>Diverted</th>\n",
       "      <th>CarrierDelay</th>\n",
       "      <th>WeatherDelay</th>\n",
       "      <th>NASDelay</th>\n",
       "      <th>SecurityDelay</th>\n",
       "      <th>LateAircraftDelay</th>\n",
       "    </tr>\n",
       "  </thead>\n",
       "  <tbody>\n",
       "    <tr>\n",
       "      <th>20000</th>\n",
       "      <td>2004</td>\n",
       "      <td>7</td>\n",
       "      <td>24</td>\n",
       "      <td>6</td>\n",
       "      <td>734.0</td>\n",
       "      <td>740</td>\n",
       "      <td>907.0</td>\n",
       "      <td>908</td>\n",
       "      <td>DL</td>\n",
       "      <td>920</td>\n",
       "      <td>...</td>\n",
       "      <td>8.0</td>\n",
       "      <td>15.0</td>\n",
       "      <td>0</td>\n",
       "      <td>NaN</td>\n",
       "      <td>0</td>\n",
       "      <td>0.0</td>\n",
       "      <td>0.0</td>\n",
       "      <td>0.0</td>\n",
       "      <td>0.0</td>\n",
       "      <td>0.0</td>\n",
       "    </tr>\n",
       "    <tr>\n",
       "      <th>20001</th>\n",
       "      <td>2004</td>\n",
       "      <td>10</td>\n",
       "      <td>10</td>\n",
       "      <td>7</td>\n",
       "      <td>812.0</td>\n",
       "      <td>804</td>\n",
       "      <td>805.0</td>\n",
       "      <td>757</td>\n",
       "      <td>OH</td>\n",
       "      <td>5479</td>\n",
       "      <td>...</td>\n",
       "      <td>4.0</td>\n",
       "      <td>17.0</td>\n",
       "      <td>0</td>\n",
       "      <td>NaN</td>\n",
       "      <td>0</td>\n",
       "      <td>0.0</td>\n",
       "      <td>0.0</td>\n",
       "      <td>0.0</td>\n",
       "      <td>0.0</td>\n",
       "      <td>0.0</td>\n",
       "    </tr>\n",
       "    <tr>\n",
       "      <th>20002</th>\n",
       "      <td>2004</td>\n",
       "      <td>11</td>\n",
       "      <td>25</td>\n",
       "      <td>4</td>\n",
       "      <td>1029.0</td>\n",
       "      <td>955</td>\n",
       "      <td>1040.0</td>\n",
       "      <td>1012</td>\n",
       "      <td>DL</td>\n",
       "      <td>1011</td>\n",
       "      <td>...</td>\n",
       "      <td>8.0</td>\n",
       "      <td>20.0</td>\n",
       "      <td>0</td>\n",
       "      <td>NaN</td>\n",
       "      <td>0</td>\n",
       "      <td>0.0</td>\n",
       "      <td>0.0</td>\n",
       "      <td>0.0</td>\n",
       "      <td>0.0</td>\n",
       "      <td>28.0</td>\n",
       "    </tr>\n",
       "    <tr>\n",
       "      <th>20003</th>\n",
       "      <td>2004</td>\n",
       "      <td>12</td>\n",
       "      <td>15</td>\n",
       "      <td>3</td>\n",
       "      <td>849.0</td>\n",
       "      <td>849</td>\n",
       "      <td>1017.0</td>\n",
       "      <td>1017</td>\n",
       "      <td>EV</td>\n",
       "      <td>4682</td>\n",
       "      <td>...</td>\n",
       "      <td>3.0</td>\n",
       "      <td>26.0</td>\n",
       "      <td>0</td>\n",
       "      <td>NaN</td>\n",
       "      <td>0</td>\n",
       "      <td>0.0</td>\n",
       "      <td>0.0</td>\n",
       "      <td>0.0</td>\n",
       "      <td>0.0</td>\n",
       "      <td>0.0</td>\n",
       "    </tr>\n",
       "    <tr>\n",
       "      <th>20004</th>\n",
       "      <td>2004</td>\n",
       "      <td>10</td>\n",
       "      <td>28</td>\n",
       "      <td>4</td>\n",
       "      <td>2106.0</td>\n",
       "      <td>1956</td>\n",
       "      <td>2211.0</td>\n",
       "      <td>2054</td>\n",
       "      <td>DL</td>\n",
       "      <td>1869</td>\n",
       "      <td>...</td>\n",
       "      <td>8.0</td>\n",
       "      <td>14.0</td>\n",
       "      <td>0</td>\n",
       "      <td>NaN</td>\n",
       "      <td>0</td>\n",
       "      <td>0.0</td>\n",
       "      <td>0.0</td>\n",
       "      <td>77.0</td>\n",
       "      <td>0.0</td>\n",
       "      <td>0.0</td>\n",
       "    </tr>\n",
       "    <tr>\n",
       "      <th>...</th>\n",
       "      <td>...</td>\n",
       "      <td>...</td>\n",
       "      <td>...</td>\n",
       "      <td>...</td>\n",
       "      <td>...</td>\n",
       "      <td>...</td>\n",
       "      <td>...</td>\n",
       "      <td>...</td>\n",
       "      <td>...</td>\n",
       "      <td>...</td>\n",
       "      <td>...</td>\n",
       "      <td>...</td>\n",
       "      <td>...</td>\n",
       "      <td>...</td>\n",
       "      <td>...</td>\n",
       "      <td>...</td>\n",
       "      <td>...</td>\n",
       "      <td>...</td>\n",
       "      <td>...</td>\n",
       "      <td>...</td>\n",
       "      <td>...</td>\n",
       "    </tr>\n",
       "    <tr>\n",
       "      <th>399955</th>\n",
       "      <td>2008</td>\n",
       "      <td>4</td>\n",
       "      <td>23</td>\n",
       "      <td>3</td>\n",
       "      <td>1909.0</td>\n",
       "      <td>1906</td>\n",
       "      <td>2058.0</td>\n",
       "      <td>2040</td>\n",
       "      <td>FL</td>\n",
       "      <td>414</td>\n",
       "      <td>...</td>\n",
       "      <td>28.0</td>\n",
       "      <td>8.0</td>\n",
       "      <td>0</td>\n",
       "      <td>NaN</td>\n",
       "      <td>0</td>\n",
       "      <td>0.0</td>\n",
       "      <td>0.0</td>\n",
       "      <td>15.0</td>\n",
       "      <td>0.0</td>\n",
       "      <td>3.0</td>\n",
       "    </tr>\n",
       "    <tr>\n",
       "      <th>399966</th>\n",
       "      <td>2008</td>\n",
       "      <td>2</td>\n",
       "      <td>14</td>\n",
       "      <td>4</td>\n",
       "      <td>1643.0</td>\n",
       "      <td>1606</td>\n",
       "      <td>1855.0</td>\n",
       "      <td>1830</td>\n",
       "      <td>EV</td>\n",
       "      <td>4846</td>\n",
       "      <td>...</td>\n",
       "      <td>2.0</td>\n",
       "      <td>16.0</td>\n",
       "      <td>0</td>\n",
       "      <td>NaN</td>\n",
       "      <td>0</td>\n",
       "      <td>25.0</td>\n",
       "      <td>0.0</td>\n",
       "      <td>0.0</td>\n",
       "      <td>0.0</td>\n",
       "      <td>0.0</td>\n",
       "    </tr>\n",
       "    <tr>\n",
       "      <th>399975</th>\n",
       "      <td>2008</td>\n",
       "      <td>8</td>\n",
       "      <td>27</td>\n",
       "      <td>3</td>\n",
       "      <td>1558.0</td>\n",
       "      <td>1600</td>\n",
       "      <td>1926.0</td>\n",
       "      <td>1911</td>\n",
       "      <td>OO</td>\n",
       "      <td>4030</td>\n",
       "      <td>...</td>\n",
       "      <td>16.0</td>\n",
       "      <td>11.0</td>\n",
       "      <td>0</td>\n",
       "      <td>NaN</td>\n",
       "      <td>0</td>\n",
       "      <td>0.0</td>\n",
       "      <td>0.0</td>\n",
       "      <td>15.0</td>\n",
       "      <td>0.0</td>\n",
       "      <td>0.0</td>\n",
       "    </tr>\n",
       "    <tr>\n",
       "      <th>399984</th>\n",
       "      <td>2008</td>\n",
       "      <td>11</td>\n",
       "      <td>24</td>\n",
       "      <td>1</td>\n",
       "      <td>557.0</td>\n",
       "      <td>600</td>\n",
       "      <td>910.0</td>\n",
       "      <td>839</td>\n",
       "      <td>DL</td>\n",
       "      <td>405</td>\n",
       "      <td>...</td>\n",
       "      <td>21.0</td>\n",
       "      <td>20.0</td>\n",
       "      <td>0</td>\n",
       "      <td>NaN</td>\n",
       "      <td>0</td>\n",
       "      <td>0.0</td>\n",
       "      <td>0.0</td>\n",
       "      <td>31.0</td>\n",
       "      <td>0.0</td>\n",
       "      <td>0.0</td>\n",
       "    </tr>\n",
       "    <tr>\n",
       "      <th>399992</th>\n",
       "      <td>2008</td>\n",
       "      <td>9</td>\n",
       "      <td>28</td>\n",
       "      <td>7</td>\n",
       "      <td>1434.0</td>\n",
       "      <td>1342</td>\n",
       "      <td>1618.0</td>\n",
       "      <td>1541</td>\n",
       "      <td>DL</td>\n",
       "      <td>74</td>\n",
       "      <td>...</td>\n",
       "      <td>9.0</td>\n",
       "      <td>13.0</td>\n",
       "      <td>0</td>\n",
       "      <td>NaN</td>\n",
       "      <td>0</td>\n",
       "      <td>20.0</td>\n",
       "      <td>0.0</td>\n",
       "      <td>0.0</td>\n",
       "      <td>0.0</td>\n",
       "      <td>17.0</td>\n",
       "    </tr>\n",
       "  </tbody>\n",
       "</table>\n",
       "<p>96573 rows × 29 columns</p>\n",
       "</div>"
      ],
      "text/plain": [
       "        Year  Month  DayofMonth  DayOfWeek  DepTime  CRSDepTime  ArrTime  \\\n",
       "20000   2004      7          24          6    734.0         740    907.0   \n",
       "20001   2004     10          10          7    812.0         804    805.0   \n",
       "20002   2004     11          25          4   1029.0         955   1040.0   \n",
       "20003   2004     12          15          3    849.0         849   1017.0   \n",
       "20004   2004     10          28          4   2106.0        1956   2211.0   \n",
       "...      ...    ...         ...        ...      ...         ...      ...   \n",
       "399955  2008      4          23          3   1909.0        1906   2058.0   \n",
       "399966  2008      2          14          4   1643.0        1606   1855.0   \n",
       "399975  2008      8          27          3   1558.0        1600   1926.0   \n",
       "399984  2008     11          24          1    557.0         600    910.0   \n",
       "399992  2008      9          28          7   1434.0        1342   1618.0   \n",
       "\n",
       "        CRSArrTime UniqueCarrier  FlightNum  ... TaxiIn  TaxiOut  Cancelled  \\\n",
       "20000          908            DL        920  ...    8.0     15.0          0   \n",
       "20001          757            OH       5479  ...    4.0     17.0          0   \n",
       "20002         1012            DL       1011  ...    8.0     20.0          0   \n",
       "20003         1017            EV       4682  ...    3.0     26.0          0   \n",
       "20004         2054            DL       1869  ...    8.0     14.0          0   \n",
       "...            ...           ...        ...  ...    ...      ...        ...   \n",
       "399955        2040            FL        414  ...   28.0      8.0          0   \n",
       "399966        1830            EV       4846  ...    2.0     16.0          0   \n",
       "399975        1911            OO       4030  ...   16.0     11.0          0   \n",
       "399984         839            DL        405  ...   21.0     20.0          0   \n",
       "399992        1541            DL         74  ...    9.0     13.0          0   \n",
       "\n",
       "        CancellationCode  Diverted  CarrierDelay WeatherDelay NASDelay  \\\n",
       "20000                NaN         0           0.0          0.0      0.0   \n",
       "20001                NaN         0           0.0          0.0      0.0   \n",
       "20002                NaN         0           0.0          0.0      0.0   \n",
       "20003                NaN         0           0.0          0.0      0.0   \n",
       "20004                NaN         0           0.0          0.0     77.0   \n",
       "...                  ...       ...           ...          ...      ...   \n",
       "399955               NaN         0           0.0          0.0     15.0   \n",
       "399966               NaN         0          25.0          0.0      0.0   \n",
       "399975               NaN         0           0.0          0.0     15.0   \n",
       "399984               NaN         0           0.0          0.0     31.0   \n",
       "399992               NaN         0          20.0          0.0      0.0   \n",
       "\n",
       "        SecurityDelay  LateAircraftDelay  \n",
       "20000             0.0                0.0  \n",
       "20001             0.0                0.0  \n",
       "20002             0.0               28.0  \n",
       "20003             0.0                0.0  \n",
       "20004             0.0                0.0  \n",
       "...               ...                ...  \n",
       "399955            0.0                3.0  \n",
       "399966            0.0                0.0  \n",
       "399975            0.0                0.0  \n",
       "399984            0.0                0.0  \n",
       "399992            0.0               17.0  \n",
       "\n",
       "[96573 rows x 29 columns]"
      ]
     },
     "execution_count": 7,
     "metadata": {},
     "output_type": "execute_result"
    }
   ],
   "source": [
    "# see some rows where carrier delay is not null\n",
    "df[~df.CarrierDelay.isnull()]"
   ]
  },
  {
   "cell_type": "markdown",
   "id": "87326d4d-0af4-4253-94d0-7693f9c3f646",
   "metadata": {},
   "source": [
    "It seems that in some cases, certain types of delay are marked as 0 instead of NaN if they didn't occur. Also it is interesting that the year column starts in 2004 instead of 1991 as it did in the original `.head()`function. I'll check the years for which the delay columns are not null."
   ]
  },
  {
   "cell_type": "code",
   "execution_count": 8,
   "id": "7b837a57-9e59-4116-84f3-19eaeca9f502",
   "metadata": {},
   "outputs": [
    {
     "name": "stdout",
     "output_type": "stream",
     "text": [
      "[2004 2005 2007 2006 2003 2008]\n",
      "[2004 2005 2007 2006 2003 2008]\n",
      "[2004 2005 2007 2006 2003 2008]\n",
      "[2004 2005 2007 2006 2003 2008]\n",
      "[2004 2005 2007 2006 2003 2008]\n"
     ]
    }
   ],
   "source": [
    "# make list of delay columns w/o departure or arrival\n",
    "delay_cols = ['CarrierDelay','WeatherDelay','SecurityDelay','NASDelay','LateAircraftDelay']\n",
    "\n",
    "# print year values for when these columns are not null\n",
    "for col in delay_cols:\n",
    "    print(df[~df[col].isnull()].Year.unique())"
   ]
  },
  {
   "cell_type": "markdown",
   "id": "f975ba20-5e82-4fa7-9e62-7562f811f05f",
   "metadata": {},
   "source": [
    "The delay columns are only non-null for 2004 and up. There is nothing I can do about this. However, I should set delay column values of 0 to NaN. Having loads of unnecessary 0 values could distort statistical analysis. Added to cleaning list."
   ]
  },
  {
   "cell_type": "markdown",
   "id": "854c3f13-a318-4b7d-8ebc-2277cc84dbbf",
   "metadata": {},
   "source": [
    "## Continue Assessment with statistical summary"
   ]
  },
  {
   "cell_type": "markdown",
   "id": "f90d17b9-0257-4fdf-908a-57561e3da354",
   "metadata": {},
   "source": [
    "I'll now continue assessment by looking for strange values in the statistical description of the dataset. "
   ]
  },
  {
   "cell_type": "code",
   "execution_count": 9,
   "id": "3ebfb1ae-6c26-437b-9020-f985a0e99535",
   "metadata": {},
   "outputs": [
    {
     "name": "stdout",
     "output_type": "stream",
     "text": [
      "                Year          Month     DayofMonth      DayOfWeek  \\\n",
      "count  440000.000000  440000.000000  440000.000000  440000.000000   \n",
      "mean     1997.500000       6.731473      15.727270       3.970886   \n",
      "std         6.344296       3.497252       8.781897       1.996014   \n",
      "min      1987.000000       1.000000       1.000000       1.000000   \n",
      "25%      1992.000000       4.000000       8.000000       2.000000   \n",
      "50%      1997.500000       7.000000      16.000000       4.000000   \n",
      "75%      2003.000000      10.000000      23.000000       6.000000   \n",
      "max      2008.000000      12.000000      31.000000       7.000000   \n",
      "\n",
      "             DepTime     CRSDepTime        ArrTime     CRSArrTime  \\\n",
      "count  432244.000000  440000.000000  431393.000000  440000.000000   \n",
      "mean     1374.640784    1366.191393    1495.800544    1497.069361   \n",
      "std       489.413176     480.843145     512.464954     497.984236   \n",
      "min         1.000000       0.000000       1.000000       0.000000   \n",
      "25%       956.000000     954.000000    1112.000000    1110.000000   \n",
      "50%      1346.000000    1340.000000    1525.000000    1525.000000   \n",
      "75%      1751.000000    1740.000000    1926.000000    1920.000000   \n",
      "max      2640.000000    2359.000000    2920.000000    2359.000000   \n",
      "\n",
      "           FlightNum  ActualElapsedTime  CRSElapsedTime        AirTime  \\\n",
      "count  440000.000000      431384.000000   439969.000000  273693.000000   \n",
      "mean     1214.403957         111.668393      111.682834      90.494704   \n",
      "std      1157.191075          54.801086       54.052204      76.090933   \n",
      "min         1.000000        -515.000000        1.000000   -1422.000000   \n",
      "25%       497.000000          76.000000       77.000000      58.000000   \n",
      "50%       873.000000         101.000000      103.000000      82.000000   \n",
      "75%      1507.000000         128.000000      128.000000     106.000000   \n",
      "max      9740.000000         648.000000     1547.000000     612.000000   \n",
      "\n",
      "            ArrDelay       DepDelay       Distance         TaxiIn  \n",
      "count  431384.000000  432244.000000  439736.000000  279638.000000  \n",
      "mean        8.987957       9.177462     618.243112       9.194248  \n",
      "std        29.961236      30.460527     445.693528      52.498294  \n",
      "min      -813.000000    -124.000000      79.000000       0.000000  \n",
      "25%        -6.000000      -1.000000     341.000000       5.000000  \n",
      "50%         2.000000       0.000000     545.000000       6.000000  \n",
      "75%        13.000000       8.000000     732.000000       9.000000  \n",
      "max       916.000000    1439.000000    4502.000000    1458.000000  \n",
      "             TaxiOut      Cancelled       Diverted  CarrierDelay  \\\n",
      "count  279681.000000  440000.000000  440000.000000  96573.000000   \n",
      "mean       16.959175       0.017636       0.001945      4.689882   \n",
      "std        11.374149       0.131626       0.044064     22.071292   \n",
      "min         0.000000       0.000000       0.000000      0.000000   \n",
      "25%        11.000000       0.000000       0.000000      0.000000   \n",
      "50%        15.000000       0.000000       0.000000      0.000000   \n",
      "75%        20.000000       0.000000       0.000000      0.000000   \n",
      "max      1438.000000       1.000000       1.000000    775.000000   \n",
      "\n",
      "       WeatherDelay      NASDelay  SecurityDelay  LateAircraftDelay  \n",
      "count  96573.000000  96573.000000   96573.000000       96573.000000  \n",
      "mean       1.230385      5.522040       0.014186           4.316124  \n",
      "std       11.373157     18.679681       1.368285          19.294778  \n",
      "min        0.000000     -1.000000       0.000000           0.000000  \n",
      "25%        0.000000      0.000000       0.000000           0.000000  \n",
      "50%        0.000000      0.000000       0.000000           0.000000  \n",
      "75%        0.000000      0.000000       0.000000           0.000000  \n",
      "max      485.000000    506.000000     357.000000         701.000000  \n"
     ]
    }
   ],
   "source": [
    "# assessment of statistics, check for strange numbers\n",
    "# divide .describe() into two sections to avoid truncation\n",
    "print(df.iloc[:,:20].describe())\n",
    "print(df.iloc[:,20:].describe())\n"
   ]
  },
  {
   "cell_type": "markdown",
   "id": "3211ccab-5f7b-4845-9be7-724fa1870243",
   "metadata": {},
   "source": [
    "From the above I see:\n",
    "* Some of the time columns have strange numbers, like 5. I believe this is 00:05 but as a float/int type. Also, some time columns have a max value abouve 23:59. When I convert these numbers to datetime, this will be a problem. Added to cleaning list.\n",
    "* columns `TaxiIn`and `TaxiOut` have some absurdly high values as maximums. Also, `AirTime`has a negative minimum. Investigation below.\n",
    "* The minimum for arrdelay is - 813 minutes. A negative number means early arrival, but I doubt that a flight would've arrived almost 14 hours early. Investigation below."
   ]
  },
  {
   "cell_type": "markdown",
   "id": "1f5f659d-5613-4272-88d2-a74bd68582fa",
   "metadata": {},
   "source": [
    "### Taxi columns"
   ]
  },
  {
   "cell_type": "code",
   "execution_count": 10,
   "id": "b5628e08-64dd-4260-80d3-87821c0e9c67",
   "metadata": {},
   "outputs": [
    {
     "data": {
      "text/plain": [
       "Year                   2005\n",
       "Month                     4\n",
       "DayofMonth                4\n",
       "DayOfWeek                 1\n",
       "DepTime              2239.0\n",
       "CRSDepTime             2239\n",
       "ArrTime              2429.0\n",
       "CRSArrTime               29\n",
       "UniqueCarrier            EV\n",
       "FlightNum              4274\n",
       "TailNum              N929EV\n",
       "ActualElapsedTime     110.0\n",
       "CRSElapsedTime        110.0\n",
       "AirTime             -1359.0\n",
       "ArrDelay                0.0\n",
       "DepDelay                0.0\n",
       "Origin                  ATL\n",
       "Dest                    DTW\n",
       "Distance              594.0\n",
       "TaxiIn               1458.0\n",
       "TaxiOut                11.0\n",
       "Cancelled                 0\n",
       "CancellationCode        NaN\n",
       "Diverted                  0\n",
       "CarrierDelay            0.0\n",
       "WeatherDelay            0.0\n",
       "NASDelay                0.0\n",
       "SecurityDelay           0.0\n",
       "LateAircraftDelay       0.0\n",
       "Name: 141246, dtype: object"
      ]
     },
     "execution_count": 10,
     "metadata": {},
     "output_type": "execute_result"
    }
   ],
   "source": [
    "# begin by taking a look at taxiin max\n",
    "taxiin_max_inx = df.TaxiIn.argmax() # get index of max value\n",
    "df.iloc[taxiin_max_inx] # show row for max value"
   ]
  },
  {
   "cell_type": "markdown",
   "id": "a093bbad-b591-483f-b0cc-7bf1ba394724",
   "metadata": {},
   "source": [
    " In this case, at least, the long taxi in is rectified by a negative value for airtime. I think this is some sort of data entry error. This is probably the case for the taxi out column as well. The rest of the row seems correct, aside from the incorrect time. Below, I'll see how many air time values are negative, and how many taxi values are greater than 2 hours. More than 2 hours taxiing seems incredibly unlikely, and I think I'm being lenient with such a high number. "
   ]
  },
  {
   "cell_type": "code",
   "execution_count": 11,
   "id": "feba7d40-e3b9-4381-8f00-ddf8903dfb3c",
   "metadata": {},
   "outputs": [
    {
     "name": "stdout",
     "output_type": "stream",
     "text": [
      "383\n",
      "401\n",
      "247\n"
     ]
    }
   ],
   "source": [
    "# see number of improbable/impossible values for taxi and airtime columns\n",
    "print(df[df.AirTime < 0].shape[0])\n",
    "print(df[df.TaxiIn > 120].shape[0])\n",
    "print(df[df.TaxiOut > 120].shape[0])"
   ]
  },
  {
   "cell_type": "markdown",
   "id": "86164214-ce13-4370-bedc-9045bbbeafdb",
   "metadata": {},
   "source": [
    "There are very few rows like this. Because there are so many variables at play( origin, destination, departure time...) I don't want to replace the values with mean. I'll get their indexes and set them as null in the cleaning section. Added to cleaning list."
   ]
  },
  {
   "cell_type": "markdown",
   "id": "32831783-f4b4-43a6-af15-efdd03be60e7",
   "metadata": {},
   "source": [
    "### Arrdelay Minimum"
   ]
  },
  {
   "cell_type": "code",
   "execution_count": 12,
   "id": "abe7ec23-c381-49af-bbf2-1b4ec5a7c1b6",
   "metadata": {},
   "outputs": [
    {
     "data": {
      "text/plain": [
       "289711   -813.0\n",
       "4981     -702.0\n",
       "297638   -688.0\n",
       "173510   -132.0\n",
       "85346     -76.0\n",
       "148096    -68.0\n",
       "241704    -65.0\n",
       "327469    -60.0\n",
       "401566    -56.0\n",
       "102695    -54.0\n",
       "Name: ArrDelay, dtype: float64"
      ]
     },
     "execution_count": 12,
     "metadata": {},
     "output_type": "execute_result"
    }
   ],
   "source": [
    "# take a look at some of the lowest arrdelay values\n",
    "df.ArrDelay.nsmallest(10)"
   ]
  },
  {
   "cell_type": "markdown",
   "id": "fd0bf567-2982-42dd-841d-98ea6fc70937",
   "metadata": {},
   "source": [
    "There are very few values that are absurdly negative. I think if a flight had a lot of luck, it could arrive 1 hour early to one of the far-away destinations, like Hawaii. I'm going to drop rows where the arrdelay is less than - 60 minutes. Added to cleaning list."
   ]
  },
  {
   "cell_type": "markdown",
   "id": "a8b5e340-222b-4cf0-8979-dadc2dac2691",
   "metadata": {},
   "source": [
    "## Cleaning List\n",
    "1. All column names are capitalized: this is cumbersome\n",
    "2. Some flights are cancelled or diverted: need to be removed\n",
    "3. Drop rows with extreme negative arrdelay values\n",
    "4. Needs a date column\n",
    "5. Data is not organized by date\n",
    "6. Month column could be month names like \"January\" instead of int, also ordered categorical dtype\n",
    "7. Dayofweek column could be names instead of int, also ordered categorical dtype\n",
    "8. The time columns are integers and floats, should be datetime in proper format\n",
    "9. Replace impossible/improbable taxi and airtime values with np.nan\n",
    "10. Replace delay column values of 0 with np.nan( except departure delay and arrival delay)\n",
    "11. Drop extraneous cancelled/diverted columns"
   ]
  },
  {
   "cell_type": "markdown",
   "id": "89fa1720-6225-4661-8e85-906b21c0335c",
   "metadata": {
    "tags": []
   },
   "source": [
    "# Data Cleaning"
   ]
  },
  {
   "cell_type": "code",
   "execution_count": 13,
   "id": "fb037178-9e0d-4b3b-91d8-914ad9b145fc",
   "metadata": {},
   "outputs": [],
   "source": [
    "# make copy of df for cleaning\n",
    "df_copy = df.copy()"
   ]
  },
  {
   "cell_type": "markdown",
   "id": "44f3bdc2-b463-44ed-ae97-1ed490b031bc",
   "metadata": {},
   "source": [
    "## 1. Capitalized Column Names\n",
    "### Define\n",
    "Map a function to columns names to make all letters in the string lower case.\n",
    "\n",
    "### Code"
   ]
  },
  {
   "cell_type": "code",
   "execution_count": 14,
   "id": "609f9f6b-b192-4634-a4e1-d17da81a6006",
   "metadata": {},
   "outputs": [],
   "source": [
    "df_copy.rename(str.lower, axis = 1, inplace = True)"
   ]
  },
  {
   "cell_type": "markdown",
   "id": "3494c1b7-60c9-42d1-b432-18e212478c7e",
   "metadata": {},
   "source": [
    "### Test"
   ]
  },
  {
   "cell_type": "code",
   "execution_count": 15,
   "id": "74134f77-6ca0-41e3-8352-af1ef53036b2",
   "metadata": {},
   "outputs": [
    {
     "data": {
      "text/plain": [
       "Index(['year', 'month', 'dayofmonth', 'dayofweek', 'deptime', 'crsdeptime',\n",
       "       'arrtime', 'crsarrtime', 'uniquecarrier', 'flightnum', 'tailnum',\n",
       "       'actualelapsedtime', 'crselapsedtime', 'airtime', 'arrdelay',\n",
       "       'depdelay', 'origin', 'dest', 'distance', 'taxiin', 'taxiout',\n",
       "       'cancelled', 'cancellationcode', 'diverted', 'carrierdelay',\n",
       "       'weatherdelay', 'nasdelay', 'securitydelay', 'lateaircraftdelay'],\n",
       "      dtype='object')"
      ]
     },
     "execution_count": 15,
     "metadata": {},
     "output_type": "execute_result"
    }
   ],
   "source": [
    "# should return list of lower case column names\n",
    "df_copy.columns"
   ]
  },
  {
   "cell_type": "markdown",
   "id": "a635a070-1d0f-4d73-b828-f67ac250ce48",
   "metadata": {},
   "source": [
    "## 2. Remove Cancelled/Diverted flights\n",
    "### Define\n",
    "I will pull the index of all cancelled and diverted flights and drop them.\n",
    "### Code"
   ]
  },
  {
   "cell_type": "code",
   "execution_count": 16,
   "id": "3dbc7753-5758-4569-a262-465ba5378d03",
   "metadata": {},
   "outputs": [],
   "source": [
    "# get index of cancelled or diverted flights\n",
    "cancel_divert_indexes = df_copy[(df_copy['cancelled'] == 1) | (df_copy.diverted == 1)].index\n",
    "# drop\n",
    "df_copy.drop(cancel_divert_indexes, axis = 0, inplace = True)"
   ]
  },
  {
   "cell_type": "markdown",
   "id": "d2fa8e36-d307-4bef-b839-1ba530e98dff",
   "metadata": {},
   "source": [
    "### Test"
   ]
  },
  {
   "cell_type": "code",
   "execution_count": 17,
   "id": "f1a36a26-72b0-4c4e-a8ba-3260a2a07b31",
   "metadata": {},
   "outputs": [
    {
     "data": {
      "text/html": [
       "<div>\n",
       "<style scoped>\n",
       "    .dataframe tbody tr th:only-of-type {\n",
       "        vertical-align: middle;\n",
       "    }\n",
       "\n",
       "    .dataframe tbody tr th {\n",
       "        vertical-align: top;\n",
       "    }\n",
       "\n",
       "    .dataframe thead th {\n",
       "        text-align: right;\n",
       "    }\n",
       "</style>\n",
       "<table border=\"1\" class=\"dataframe\">\n",
       "  <thead>\n",
       "    <tr style=\"text-align: right;\">\n",
       "      <th></th>\n",
       "      <th>year</th>\n",
       "      <th>month</th>\n",
       "      <th>dayofmonth</th>\n",
       "      <th>dayofweek</th>\n",
       "      <th>deptime</th>\n",
       "      <th>crsdeptime</th>\n",
       "      <th>arrtime</th>\n",
       "      <th>crsarrtime</th>\n",
       "      <th>uniquecarrier</th>\n",
       "      <th>flightnum</th>\n",
       "      <th>...</th>\n",
       "      <th>taxiin</th>\n",
       "      <th>taxiout</th>\n",
       "      <th>cancelled</th>\n",
       "      <th>cancellationcode</th>\n",
       "      <th>diverted</th>\n",
       "      <th>carrierdelay</th>\n",
       "      <th>weatherdelay</th>\n",
       "      <th>nasdelay</th>\n",
       "      <th>securitydelay</th>\n",
       "      <th>lateaircraftdelay</th>\n",
       "    </tr>\n",
       "  </thead>\n",
       "  <tbody>\n",
       "  </tbody>\n",
       "</table>\n",
       "<p>0 rows × 29 columns</p>\n",
       "</div>"
      ],
      "text/plain": [
       "Empty DataFrame\n",
       "Columns: [year, month, dayofmonth, dayofweek, deptime, crsdeptime, arrtime, crsarrtime, uniquecarrier, flightnum, tailnum, actualelapsedtime, crselapsedtime, airtime, arrdelay, depdelay, origin, dest, distance, taxiin, taxiout, cancelled, cancellationcode, diverted, carrierdelay, weatherdelay, nasdelay, securitydelay, lateaircraftdelay]\n",
       "Index: []\n",
       "\n",
       "[0 rows x 29 columns]"
      ]
     },
     "execution_count": 17,
     "metadata": {},
     "output_type": "execute_result"
    }
   ],
   "source": [
    "# should return empty frame \n",
    "df_copy[(df_copy.cancelled == 1) | (df_copy.diverted == 1)]"
   ]
  },
  {
   "cell_type": "markdown",
   "id": "40864802-2ee9-40b5-b624-f16805900475",
   "metadata": {},
   "source": [
    "## 3. Drop rows with extreme negative arrdelay values\n",
    "### Define\n",
    "I will pull the index of all arrdelay values lower than -60 and drop them."
   ]
  },
  {
   "cell_type": "code",
   "execution_count": 18,
   "id": "fb95bf02-613e-489c-8c79-a3074f998365",
   "metadata": {},
   "outputs": [],
   "source": [
    "# get index of rows with arrdelay less than - 60\n",
    "low_arrdelay_vals = df_copy[df_copy.arrdelay < -60].index\n",
    "# drop\n",
    "df_copy.drop(low_arrdelay_vals, axis = 0, inplace = True)"
   ]
  },
  {
   "cell_type": "markdown",
   "id": "505472d3-3c5e-4958-928f-e1f2793ce691",
   "metadata": {},
   "source": [
    "### Test"
   ]
  },
  {
   "cell_type": "code",
   "execution_count": 19,
   "id": "0551a1cd-a614-4a11-946b-9ef304e26f3a",
   "metadata": {},
   "outputs": [
    {
     "data": {
      "text/html": [
       "<div>\n",
       "<style scoped>\n",
       "    .dataframe tbody tr th:only-of-type {\n",
       "        vertical-align: middle;\n",
       "    }\n",
       "\n",
       "    .dataframe tbody tr th {\n",
       "        vertical-align: top;\n",
       "    }\n",
       "\n",
       "    .dataframe thead th {\n",
       "        text-align: right;\n",
       "    }\n",
       "</style>\n",
       "<table border=\"1\" class=\"dataframe\">\n",
       "  <thead>\n",
       "    <tr style=\"text-align: right;\">\n",
       "      <th></th>\n",
       "      <th>year</th>\n",
       "      <th>month</th>\n",
       "      <th>dayofmonth</th>\n",
       "      <th>dayofweek</th>\n",
       "      <th>deptime</th>\n",
       "      <th>crsdeptime</th>\n",
       "      <th>arrtime</th>\n",
       "      <th>crsarrtime</th>\n",
       "      <th>uniquecarrier</th>\n",
       "      <th>flightnum</th>\n",
       "      <th>...</th>\n",
       "      <th>taxiin</th>\n",
       "      <th>taxiout</th>\n",
       "      <th>cancelled</th>\n",
       "      <th>cancellationcode</th>\n",
       "      <th>diverted</th>\n",
       "      <th>carrierdelay</th>\n",
       "      <th>weatherdelay</th>\n",
       "      <th>nasdelay</th>\n",
       "      <th>securitydelay</th>\n",
       "      <th>lateaircraftdelay</th>\n",
       "    </tr>\n",
       "  </thead>\n",
       "  <tbody>\n",
       "  </tbody>\n",
       "</table>\n",
       "<p>0 rows × 29 columns</p>\n",
       "</div>"
      ],
      "text/plain": [
       "Empty DataFrame\n",
       "Columns: [year, month, dayofmonth, dayofweek, deptime, crsdeptime, arrtime, crsarrtime, uniquecarrier, flightnum, tailnum, actualelapsedtime, crselapsedtime, airtime, arrdelay, depdelay, origin, dest, distance, taxiin, taxiout, cancelled, cancellationcode, diverted, carrierdelay, weatherdelay, nasdelay, securitydelay, lateaircraftdelay]\n",
       "Index: []\n",
       "\n",
       "[0 rows x 29 columns]"
      ]
     },
     "execution_count": 19,
     "metadata": {},
     "output_type": "execute_result"
    }
   ],
   "source": [
    "# should return empty dataframe\n",
    "df_copy[df_copy.arrdelay < -60]"
   ]
  },
  {
   "cell_type": "markdown",
   "id": "959e316e-159c-4a7a-8d9e-e6be066b457c",
   "metadata": {},
   "source": [
    "## 4. Needs Date Column\n",
    "### Define\n",
    "Create \"date\" column by concatenating columns \"year\",\"month\" and \"dayofmonth\" as strings, then coverting to datetime."
   ]
  },
  {
   "cell_type": "markdown",
   "id": "b642c58e-35d4-4b33-91ea-e214e33cac8a",
   "metadata": {},
   "source": [
    "### Code"
   ]
  },
  {
   "cell_type": "code",
   "execution_count": 20,
   "id": "3ad55632-7176-48a1-9779-355f675c522d",
   "metadata": {},
   "outputs": [],
   "source": [
    "# concatenate year, month and dayofmonth columns as string and convert to datetime\n",
    "df_copy['date'] = pd.to_datetime(df_copy['year'].astype('str') + ' ' + df_copy['month'].astype('str') +\n",
    "                            ' ' + df_copy['dayofmonth'].astype('str'))"
   ]
  },
  {
   "cell_type": "markdown",
   "id": "dbce05f1-b5f1-4975-92df-9ef3b8cecb30",
   "metadata": {},
   "source": [
    "### Test"
   ]
  },
  {
   "cell_type": "code",
   "execution_count": 21,
   "id": "6d892ff6-07ea-4428-8a6c-157cf0209006",
   "metadata": {},
   "outputs": [
    {
     "data": {
      "text/html": [
       "<div>\n",
       "<style scoped>\n",
       "    .dataframe tbody tr th:only-of-type {\n",
       "        vertical-align: middle;\n",
       "    }\n",
       "\n",
       "    .dataframe tbody tr th {\n",
       "        vertical-align: top;\n",
       "    }\n",
       "\n",
       "    .dataframe thead th {\n",
       "        text-align: right;\n",
       "    }\n",
       "</style>\n",
       "<table border=\"1\" class=\"dataframe\">\n",
       "  <thead>\n",
       "    <tr style=\"text-align: right;\">\n",
       "      <th></th>\n",
       "      <th>year</th>\n",
       "      <th>month</th>\n",
       "      <th>dayofmonth</th>\n",
       "      <th>dayofweek</th>\n",
       "      <th>deptime</th>\n",
       "      <th>crsdeptime</th>\n",
       "      <th>arrtime</th>\n",
       "      <th>crsarrtime</th>\n",
       "      <th>uniquecarrier</th>\n",
       "      <th>flightnum</th>\n",
       "      <th>...</th>\n",
       "      <th>taxiout</th>\n",
       "      <th>cancelled</th>\n",
       "      <th>cancellationcode</th>\n",
       "      <th>diverted</th>\n",
       "      <th>carrierdelay</th>\n",
       "      <th>weatherdelay</th>\n",
       "      <th>nasdelay</th>\n",
       "      <th>securitydelay</th>\n",
       "      <th>lateaircraftdelay</th>\n",
       "      <th>date</th>\n",
       "    </tr>\n",
       "  </thead>\n",
       "  <tbody>\n",
       "    <tr>\n",
       "      <th>0</th>\n",
       "      <td>1991</td>\n",
       "      <td>9</td>\n",
       "      <td>19</td>\n",
       "      <td>4</td>\n",
       "      <td>1026.0</td>\n",
       "      <td>1027</td>\n",
       "      <td>1242.0</td>\n",
       "      <td>1220</td>\n",
       "      <td>DL</td>\n",
       "      <td>1076</td>\n",
       "      <td>...</td>\n",
       "      <td>NaN</td>\n",
       "      <td>0</td>\n",
       "      <td>NaN</td>\n",
       "      <td>0</td>\n",
       "      <td>NaN</td>\n",
       "      <td>NaN</td>\n",
       "      <td>NaN</td>\n",
       "      <td>NaN</td>\n",
       "      <td>NaN</td>\n",
       "      <td>1991-09-19</td>\n",
       "    </tr>\n",
       "    <tr>\n",
       "      <th>1</th>\n",
       "      <td>1991</td>\n",
       "      <td>5</td>\n",
       "      <td>6</td>\n",
       "      <td>1</td>\n",
       "      <td>1323.0</td>\n",
       "      <td>1319</td>\n",
       "      <td>1535.0</td>\n",
       "      <td>1530</td>\n",
       "      <td>DL</td>\n",
       "      <td>978</td>\n",
       "      <td>...</td>\n",
       "      <td>NaN</td>\n",
       "      <td>0</td>\n",
       "      <td>NaN</td>\n",
       "      <td>0</td>\n",
       "      <td>NaN</td>\n",
       "      <td>NaN</td>\n",
       "      <td>NaN</td>\n",
       "      <td>NaN</td>\n",
       "      <td>NaN</td>\n",
       "      <td>1991-05-06</td>\n",
       "    </tr>\n",
       "    <tr>\n",
       "      <th>2</th>\n",
       "      <td>1991</td>\n",
       "      <td>1</td>\n",
       "      <td>20</td>\n",
       "      <td>7</td>\n",
       "      <td>755.0</td>\n",
       "      <td>750</td>\n",
       "      <td>1225.0</td>\n",
       "      <td>1229</td>\n",
       "      <td>DL</td>\n",
       "      <td>402</td>\n",
       "      <td>...</td>\n",
       "      <td>NaN</td>\n",
       "      <td>0</td>\n",
       "      <td>NaN</td>\n",
       "      <td>0</td>\n",
       "      <td>NaN</td>\n",
       "      <td>NaN</td>\n",
       "      <td>NaN</td>\n",
       "      <td>NaN</td>\n",
       "      <td>NaN</td>\n",
       "      <td>1991-01-20</td>\n",
       "    </tr>\n",
       "  </tbody>\n",
       "</table>\n",
       "<p>3 rows × 30 columns</p>\n",
       "</div>"
      ],
      "text/plain": [
       "   year  month  dayofmonth  dayofweek  deptime  crsdeptime  arrtime  \\\n",
       "0  1991      9          19          4   1026.0        1027   1242.0   \n",
       "1  1991      5           6          1   1323.0        1319   1535.0   \n",
       "2  1991      1          20          7    755.0         750   1225.0   \n",
       "\n",
       "   crsarrtime uniquecarrier  flightnum  ... taxiout  cancelled  \\\n",
       "0        1220            DL       1076  ...     NaN          0   \n",
       "1        1530            DL        978  ...     NaN          0   \n",
       "2        1229            DL        402  ...     NaN          0   \n",
       "\n",
       "   cancellationcode  diverted  carrierdelay  weatherdelay nasdelay  \\\n",
       "0               NaN         0           NaN           NaN      NaN   \n",
       "1               NaN         0           NaN           NaN      NaN   \n",
       "2               NaN         0           NaN           NaN      NaN   \n",
       "\n",
       "  securitydelay  lateaircraftdelay       date  \n",
       "0           NaN                NaN 1991-09-19  \n",
       "1           NaN                NaN 1991-05-06  \n",
       "2           NaN                NaN 1991-01-20  \n",
       "\n",
       "[3 rows x 30 columns]"
      ]
     },
     "execution_count": 21,
     "metadata": {},
     "output_type": "execute_result"
    }
   ],
   "source": [
    "# date column should be last column of df, correspond to above concatenated columns\n",
    "df_copy.head(3)"
   ]
  },
  {
   "cell_type": "markdown",
   "id": "19464185-5994-47dc-a22c-1986d29bc49e",
   "metadata": {},
   "source": [
    "## 5. Data Not Organized by Date\n",
    "### Define\n",
    "Sort values by newly created \"date\" column.\n",
    "### Code"
   ]
  },
  {
   "cell_type": "code",
   "execution_count": 22,
   "id": "10f37987-32e3-4aad-9274-bc146c95b328",
   "metadata": {},
   "outputs": [],
   "source": [
    "# sort df by date column\n",
    "df_copy.sort_values('date',inplace = True)"
   ]
  },
  {
   "cell_type": "markdown",
   "id": "a49066d1-124d-446a-8411-ab28e12cc772",
   "metadata": {},
   "source": [
    "### Test"
   ]
  },
  {
   "cell_type": "code",
   "execution_count": 23,
   "id": "849a8b57-b302-42c2-8de7-82736c8ddf8b",
   "metadata": {},
   "outputs": [
    {
     "name": "stdout",
     "output_type": "stream",
     "text": [
      "285103   1987-10-01\n",
      "288134   1987-10-01\n",
      "299585   1987-10-01\n",
      "288099   1987-10-01\n",
      "299559   1987-10-01\n",
      "Name: date, dtype: datetime64[ns]\n",
      "381301   2008-12-31\n",
      "398235   2008-12-31\n",
      "382928   2008-12-31\n",
      "389452   2008-12-31\n",
      "380290   2008-12-31\n",
      "Name: date, dtype: datetime64[ns]\n"
     ]
    }
   ],
   "source": [
    "# should start with October 1987 and en with December 2008\n",
    "print(df_copy.date.head())\n",
    "print(df_copy.date.tail())"
   ]
  },
  {
   "cell_type": "code",
   "execution_count": 24,
   "id": "04802371-be4b-4886-9290-4fcc494e60f4",
   "metadata": {},
   "outputs": [],
   "source": [
    "# reset index after reordering\n",
    "df_copy.reset_index(drop = True,inplace = True)"
   ]
  },
  {
   "cell_type": "markdown",
   "id": "72e6bf8c-c404-481d-b0b1-8e1df31b13b2",
   "metadata": {},
   "source": [
    "## 6. Month is Int Instead of Name\n",
    "### Define\n",
    "Use Python's calendar library to apply a lambda function to the `\"month\"` column. For month integer, return corresponding month name. \n",
    "\n",
    "I will wait to convert to categorical dtype. I want to save the cleaned df to a csv file. When I re-upload the cleaned data to a new dataframe, the column will need to be converted to categorical type again, so no need to do that here. "
   ]
  },
  {
   "cell_type": "markdown",
   "id": "6048ff54-1ce8-4add-8d1b-c7e0672fce35",
   "metadata": {},
   "source": [
    "### Code"
   ]
  },
  {
   "cell_type": "code",
   "execution_count": 25,
   "id": "eb0e1383-ddde-4a38-8c69-f756481426cb",
   "metadata": {},
   "outputs": [],
   "source": [
    "import calendar\n",
    "\n",
    "# for each value in month column get month name\n",
    "df_copy['month'] = df_copy.month.apply(lambda x: calendar.month_name[x])"
   ]
  },
  {
   "cell_type": "markdown",
   "id": "9e11f588-4e9d-4d37-9b74-6498720b54c8",
   "metadata": {},
   "source": [
    "### Test"
   ]
  },
  {
   "cell_type": "code",
   "execution_count": 26,
   "id": "a836ae61-28c3-4640-ac5e-2359fa2ac09e",
   "metadata": {},
   "outputs": [
    {
     "data": {
      "text/plain": [
       "array(['October', 'November', 'December', 'January', 'February', 'March',\n",
       "       'April', 'May', 'June', 'July', 'August', 'September'],\n",
       "      dtype=object)"
      ]
     },
     "execution_count": 26,
     "metadata": {},
     "output_type": "execute_result"
    }
   ],
   "source": [
    "# should return list of month names\n",
    "df_copy.month.unique()"
   ]
  },
  {
   "cell_type": "markdown",
   "id": "60940759-7da6-4b7d-93c5-bd676e0e8ffe",
   "metadata": {},
   "source": [
    "## 7. Day of Week is int instead of name\n",
    "### Define\n",
    "Use Python's calendar library to apply a labmda function to the \"dayofweek\" column. For day integer, return corresponding day name. The `calendar.day_name` function works with Monday as index 0 and Sunday as index 6. So I'll first have to subtract 1 from each dayofweek value, so that it matches with the day_name index.\n",
    "\n",
    "Just like month column, I will wait to convert the weekdays to categorical type\n",
    "### Code"
   ]
  },
  {
   "cell_type": "code",
   "execution_count": 27,
   "id": "dd96a4a3-c5da-4df8-b4ab-c12302dca481",
   "metadata": {},
   "outputs": [],
   "source": [
    "# subtract 1 from day of week value, use it to index calendar.day_name and return day name\n",
    "df_copy['dayofweek'] = df_copy.dayofweek.apply(lambda x: calendar.day_name[x - 1])"
   ]
  },
  {
   "cell_type": "markdown",
   "id": "c2f999e7-de85-432a-b473-541a147355f1",
   "metadata": {},
   "source": [
    "### Test"
   ]
  },
  {
   "cell_type": "code",
   "execution_count": 28,
   "id": "64c52b10-3552-4c09-8999-464bf3aebefc",
   "metadata": {},
   "outputs": [
    {
     "data": {
      "text/plain": [
       "array(['Thursday', 'Friday', 'Saturday', 'Sunday', 'Monday', 'Tuesday',\n",
       "       'Wednesday'], dtype=object)"
      ]
     },
     "execution_count": 28,
     "metadata": {},
     "output_type": "execute_result"
    }
   ],
   "source": [
    "# should return list of weekdays\n",
    "df_copy.dayofweek.unique()"
   ]
  },
  {
   "cell_type": "markdown",
   "id": "3e24976e-580d-4c4b-86e8-c3e45365f708",
   "metadata": {},
   "source": [
    "## 8. Correct Time Columns\n",
    "### Define\n",
    "Here I am going to correct the time columns by:\n",
    "* subtracting 2400 from those values that are greater than 2400( necessary to convert to datetime\n",
    "* add padding 0s to values that are less than 1000( datetimes `strptime`function won't accept values like 900 - needs to be 0900\n",
    "* convert to datetime objects\n",
    "* convert to time objects\n",
    "\n",
    "I will acheive this by writing a function to perform the first two tasks to all of each delay column's values. Then loop through each column, convert to Int if float, then to object. Then run the function on the column, and finally, convert to a time object.\n",
    "### Code"
   ]
  },
  {
   "cell_type": "code",
   "execution_count": 29,
   "id": "29b16bb1-1eed-464b-9849-91a6d9bcef0a",
   "metadata": {},
   "outputs": [],
   "source": [
    "from datetime import datetime\n",
    "\n",
    "# function to add padding 0 to times with length that is less than 4\n",
    "def correct_time_cols(time):\n",
    "    \"\"\" take a string. add zeros for padding if length is  less than 4.\"\"\"     \n",
    "    if int(time) > 2400:\n",
    "        time = str(int(time) - 2400) # corrects columns where time is greater than 2400 ( after midnight)\n",
    "    if len(time) == 3: # add padding 0 for strptime\n",
    "        time = '0' + time\n",
    "    elif len(time) == 2:\n",
    "        time = '00' + time\n",
    "    elif len(time) == 1:\n",
    "        time = '000' + time\n",
    "    try:\n",
    "        correct_time = datetime.strptime(time,'%H%M') # convert string to datetime\n",
    "        return correct_time\n",
    "    except:\n",
    "        return None # in the event of incorrect times"
   ]
  },
  {
   "cell_type": "code",
   "execution_count": 30,
   "id": "bd676c15-1271-43f2-b249-5631607fe285",
   "metadata": {},
   "outputs": [],
   "source": [
    "# get list of time columns\n",
    "time_cols = ['deptime','crsdeptime','arrtime','crsarrtime']\n",
    "\n",
    "# loop through list\n",
    "for col in time_cols:\n",
    "    df_copy[col] = df_copy[col].astype('Int64') # remove float .0 to later convert to string\n",
    "    df_copy[col] = df_copy[col].astype('object') # convert to string\n",
    "    df_copy[col] = df_copy[col].apply(lambda x: correct_time_cols(str(x))) # apply above function to convert to datetime\n",
    "    df_copy[col] = df_copy[col].dt.time # convert to time"
   ]
  },
  {
   "cell_type": "markdown",
   "id": "49e49cb4-3948-4cc2-a5f3-cd1c29fd1218",
   "metadata": {},
   "source": [
    "### Test"
   ]
  },
  {
   "cell_type": "code",
   "execution_count": 31,
   "id": "e140061f-9bbe-4f7c-ad6a-e0b52895d6b1",
   "metadata": {},
   "outputs": [
    {
     "data": {
      "text/html": [
       "<div>\n",
       "<style scoped>\n",
       "    .dataframe tbody tr th:only-of-type {\n",
       "        vertical-align: middle;\n",
       "    }\n",
       "\n",
       "    .dataframe tbody tr th {\n",
       "        vertical-align: top;\n",
       "    }\n",
       "\n",
       "    .dataframe thead th {\n",
       "        text-align: right;\n",
       "    }\n",
       "</style>\n",
       "<table border=\"1\" class=\"dataframe\">\n",
       "  <thead>\n",
       "    <tr style=\"text-align: right;\">\n",
       "      <th></th>\n",
       "      <th>year</th>\n",
       "      <th>month</th>\n",
       "      <th>dayofmonth</th>\n",
       "      <th>dayofweek</th>\n",
       "      <th>deptime</th>\n",
       "      <th>crsdeptime</th>\n",
       "      <th>arrtime</th>\n",
       "      <th>crsarrtime</th>\n",
       "      <th>uniquecarrier</th>\n",
       "      <th>flightnum</th>\n",
       "      <th>...</th>\n",
       "      <th>taxiout</th>\n",
       "      <th>cancelled</th>\n",
       "      <th>cancellationcode</th>\n",
       "      <th>diverted</th>\n",
       "      <th>carrierdelay</th>\n",
       "      <th>weatherdelay</th>\n",
       "      <th>nasdelay</th>\n",
       "      <th>securitydelay</th>\n",
       "      <th>lateaircraftdelay</th>\n",
       "      <th>date</th>\n",
       "    </tr>\n",
       "  </thead>\n",
       "  <tbody>\n",
       "    <tr>\n",
       "      <th>0</th>\n",
       "      <td>1987</td>\n",
       "      <td>October</td>\n",
       "      <td>1</td>\n",
       "      <td>Thursday</td>\n",
       "      <td>19:37:00</td>\n",
       "      <td>19:37:00</td>\n",
       "      <td>21:40:00</td>\n",
       "      <td>21:29:00</td>\n",
       "      <td>EA</td>\n",
       "      <td>734</td>\n",
       "      <td>...</td>\n",
       "      <td>NaN</td>\n",
       "      <td>0</td>\n",
       "      <td>NaN</td>\n",
       "      <td>0</td>\n",
       "      <td>NaN</td>\n",
       "      <td>NaN</td>\n",
       "      <td>NaN</td>\n",
       "      <td>NaN</td>\n",
       "      <td>NaN</td>\n",
       "      <td>1987-10-01</td>\n",
       "    </tr>\n",
       "    <tr>\n",
       "      <th>1</th>\n",
       "      <td>1987</td>\n",
       "      <td>October</td>\n",
       "      <td>1</td>\n",
       "      <td>Thursday</td>\n",
       "      <td>12:55:00</td>\n",
       "      <td>12:55:00</td>\n",
       "      <td>14:14:00</td>\n",
       "      <td>14:14:00</td>\n",
       "      <td>DL</td>\n",
       "      <td>461</td>\n",
       "      <td>...</td>\n",
       "      <td>NaN</td>\n",
       "      <td>0</td>\n",
       "      <td>NaN</td>\n",
       "      <td>0</td>\n",
       "      <td>NaN</td>\n",
       "      <td>NaN</td>\n",
       "      <td>NaN</td>\n",
       "      <td>NaN</td>\n",
       "      <td>NaN</td>\n",
       "      <td>1987-10-01</td>\n",
       "    </tr>\n",
       "    <tr>\n",
       "      <th>2</th>\n",
       "      <td>1987</td>\n",
       "      <td>October</td>\n",
       "      <td>1</td>\n",
       "      <td>Thursday</td>\n",
       "      <td>06:44:00</td>\n",
       "      <td>06:44:00</td>\n",
       "      <td>07:41:00</td>\n",
       "      <td>07:40:00</td>\n",
       "      <td>DL</td>\n",
       "      <td>521</td>\n",
       "      <td>...</td>\n",
       "      <td>NaN</td>\n",
       "      <td>0</td>\n",
       "      <td>NaN</td>\n",
       "      <td>0</td>\n",
       "      <td>NaN</td>\n",
       "      <td>NaN</td>\n",
       "      <td>NaN</td>\n",
       "      <td>NaN</td>\n",
       "      <td>NaN</td>\n",
       "      <td>1987-10-01</td>\n",
       "    </tr>\n",
       "    <tr>\n",
       "      <th>3</th>\n",
       "      <td>1987</td>\n",
       "      <td>October</td>\n",
       "      <td>1</td>\n",
       "      <td>Thursday</td>\n",
       "      <td>15:13:00</td>\n",
       "      <td>15:13:00</td>\n",
       "      <td>16:45:00</td>\n",
       "      <td>16:45:00</td>\n",
       "      <td>DL</td>\n",
       "      <td>378</td>\n",
       "      <td>...</td>\n",
       "      <td>NaN</td>\n",
       "      <td>0</td>\n",
       "      <td>NaN</td>\n",
       "      <td>0</td>\n",
       "      <td>NaN</td>\n",
       "      <td>NaN</td>\n",
       "      <td>NaN</td>\n",
       "      <td>NaN</td>\n",
       "      <td>NaN</td>\n",
       "      <td>1987-10-01</td>\n",
       "    </tr>\n",
       "    <tr>\n",
       "      <th>4</th>\n",
       "      <td>1987</td>\n",
       "      <td>October</td>\n",
       "      <td>1</td>\n",
       "      <td>Thursday</td>\n",
       "      <td>16:00:00</td>\n",
       "      <td>16:00:00</td>\n",
       "      <td>18:18:00</td>\n",
       "      <td>18:00:00</td>\n",
       "      <td>DL</td>\n",
       "      <td>1084</td>\n",
       "      <td>...</td>\n",
       "      <td>NaN</td>\n",
       "      <td>0</td>\n",
       "      <td>NaN</td>\n",
       "      <td>0</td>\n",
       "      <td>NaN</td>\n",
       "      <td>NaN</td>\n",
       "      <td>NaN</td>\n",
       "      <td>NaN</td>\n",
       "      <td>NaN</td>\n",
       "      <td>1987-10-01</td>\n",
       "    </tr>\n",
       "  </tbody>\n",
       "</table>\n",
       "<p>5 rows × 30 columns</p>\n",
       "</div>"
      ],
      "text/plain": [
       "   year    month  dayofmonth dayofweek   deptime crsdeptime   arrtime  \\\n",
       "0  1987  October           1  Thursday  19:37:00   19:37:00  21:40:00   \n",
       "1  1987  October           1  Thursday  12:55:00   12:55:00  14:14:00   \n",
       "2  1987  October           1  Thursday  06:44:00   06:44:00  07:41:00   \n",
       "3  1987  October           1  Thursday  15:13:00   15:13:00  16:45:00   \n",
       "4  1987  October           1  Thursday  16:00:00   16:00:00  18:18:00   \n",
       "\n",
       "  crsarrtime uniquecarrier  flightnum  ... taxiout  cancelled  \\\n",
       "0   21:29:00            EA        734  ...     NaN          0   \n",
       "1   14:14:00            DL        461  ...     NaN          0   \n",
       "2   07:40:00            DL        521  ...     NaN          0   \n",
       "3   16:45:00            DL        378  ...     NaN          0   \n",
       "4   18:00:00            DL       1084  ...     NaN          0   \n",
       "\n",
       "   cancellationcode  diverted  carrierdelay  weatherdelay nasdelay  \\\n",
       "0               NaN         0           NaN           NaN      NaN   \n",
       "1               NaN         0           NaN           NaN      NaN   \n",
       "2               NaN         0           NaN           NaN      NaN   \n",
       "3               NaN         0           NaN           NaN      NaN   \n",
       "4               NaN         0           NaN           NaN      NaN   \n",
       "\n",
       "  securitydelay  lateaircraftdelay       date  \n",
       "0           NaN                NaN 1987-10-01  \n",
       "1           NaN                NaN 1987-10-01  \n",
       "2           NaN                NaN 1987-10-01  \n",
       "3           NaN                NaN 1987-10-01  \n",
       "4           NaN                NaN 1987-10-01  \n",
       "\n",
       "[5 rows x 30 columns]"
      ]
     },
     "execution_count": 31,
     "metadata": {},
     "output_type": "execute_result"
    }
   ],
   "source": [
    "# time columns should now be date objects\n",
    "df_copy.head()"
   ]
  },
  {
   "cell_type": "markdown",
   "id": "ab3b4a20-3889-4601-a557-d401894dec48",
   "metadata": {},
   "source": [
    "## 9. Replace impossible/improbable taxi and airtime values with np.nan\n",
    "### Define\n",
    "I will query the rows where tax in and taxi out are greater than 120 minutes and where airtime is less than 0, and replace those values with np.nan. \n",
    "### Code"
   ]
  },
  {
   "cell_type": "code",
   "execution_count": 32,
   "id": "9f5b7f7a-dc9c-48f4-8630-6d21d554e370",
   "metadata": {},
   "outputs": [],
   "source": [
    "df_copy.loc[df_copy.taxiin > 120, 'taxiin'] = np.nan\n",
    "df_copy.loc[df_copy.taxiout > 120, 'taxiout'] = np.nan\n",
    "df_copy.loc[df_copy.airtime < 0, 'airtime'] = np.nan"
   ]
  },
  {
   "cell_type": "markdown",
   "id": "f18b0d73-2eac-4a5b-bbac-8f4b1483d00a",
   "metadata": {},
   "source": [
    "### Test"
   ]
  },
  {
   "cell_type": "code",
   "execution_count": 33,
   "id": "687dc4f4-4f74-497c-a9f5-92466943aa81",
   "metadata": {},
   "outputs": [
    {
     "data": {
      "text/html": [
       "<div>\n",
       "<style scoped>\n",
       "    .dataframe tbody tr th:only-of-type {\n",
       "        vertical-align: middle;\n",
       "    }\n",
       "\n",
       "    .dataframe tbody tr th {\n",
       "        vertical-align: top;\n",
       "    }\n",
       "\n",
       "    .dataframe thead th {\n",
       "        text-align: right;\n",
       "    }\n",
       "</style>\n",
       "<table border=\"1\" class=\"dataframe\">\n",
       "  <thead>\n",
       "    <tr style=\"text-align: right;\">\n",
       "      <th></th>\n",
       "      <th>taxiin</th>\n",
       "      <th>taxiout</th>\n",
       "      <th>airtime</th>\n",
       "    </tr>\n",
       "  </thead>\n",
       "  <tbody>\n",
       "    <tr>\n",
       "      <th>count</th>\n",
       "      <td>273133.000000</td>\n",
       "      <td>273288.000000</td>\n",
       "      <td>273146.000000</td>\n",
       "    </tr>\n",
       "    <tr>\n",
       "      <th>mean</th>\n",
       "      <td>7.421732</td>\n",
       "      <td>17.157669</td>\n",
       "      <td>92.499945</td>\n",
       "    </tr>\n",
       "    <tr>\n",
       "      <th>std</th>\n",
       "      <td>4.469405</td>\n",
       "      <td>9.472347</td>\n",
       "      <td>53.740919</td>\n",
       "    </tr>\n",
       "    <tr>\n",
       "      <th>min</th>\n",
       "      <td>0.000000</td>\n",
       "      <td>0.000000</td>\n",
       "      <td>0.000000</td>\n",
       "    </tr>\n",
       "    <tr>\n",
       "      <th>25%</th>\n",
       "      <td>5.000000</td>\n",
       "      <td>11.000000</td>\n",
       "      <td>58.000000</td>\n",
       "    </tr>\n",
       "    <tr>\n",
       "      <th>50%</th>\n",
       "      <td>6.000000</td>\n",
       "      <td>15.000000</td>\n",
       "      <td>82.000000</td>\n",
       "    </tr>\n",
       "    <tr>\n",
       "      <th>75%</th>\n",
       "      <td>9.000000</td>\n",
       "      <td>20.000000</td>\n",
       "      <td>106.000000</td>\n",
       "    </tr>\n",
       "    <tr>\n",
       "      <th>max</th>\n",
       "      <td>119.000000</td>\n",
       "      <td>120.000000</td>\n",
       "      <td>612.000000</td>\n",
       "    </tr>\n",
       "  </tbody>\n",
       "</table>\n",
       "</div>"
      ],
      "text/plain": [
       "              taxiin        taxiout        airtime\n",
       "count  273133.000000  273288.000000  273146.000000\n",
       "mean        7.421732      17.157669      92.499945\n",
       "std         4.469405       9.472347      53.740919\n",
       "min         0.000000       0.000000       0.000000\n",
       "25%         5.000000      11.000000      58.000000\n",
       "50%         6.000000      15.000000      82.000000\n",
       "75%         9.000000      20.000000     106.000000\n",
       "max       119.000000     120.000000     612.000000"
      ]
     },
     "execution_count": 33,
     "metadata": {},
     "output_type": "execute_result"
    }
   ],
   "source": [
    "# the descriptive statistics should have no surprising numbers\n",
    "df_copy.describe()[['taxiin','taxiout','airtime']]"
   ]
  },
  {
   "cell_type": "markdown",
   "id": "6b49699d-729c-40de-bf24-2a5262dab24c",
   "metadata": {},
   "source": [
    "## 10. Replace delay column values of 0 with np.nan( except departure delay and arrival delay)\n",
    "### Define\n",
    "For each of the delay columns except departure and arrival, I'm going to replace values of 0 with np.nan. "
   ]
  },
  {
   "cell_type": "code",
   "execution_count": 34,
   "id": "2977e216-39f2-4c53-b8e7-795154413bc3",
   "metadata": {},
   "outputs": [],
   "source": [
    "# reuse delay_cols, make lowercase to match new column names\n",
    "for i in range(len(delay_cols)):\n",
    "    delay_cols[i] = delay_cols[i].lower()"
   ]
  },
  {
   "cell_type": "code",
   "execution_count": 35,
   "id": "97c7266f-94a3-4205-8442-77088bdfad7c",
   "metadata": {},
   "outputs": [],
   "source": [
    "# for each delay column, replace 0 with np.nan\n",
    "for col in delay_cols:\n",
    "    df_copy[col].replace(0, np.nan, inplace = True)"
   ]
  },
  {
   "cell_type": "markdown",
   "id": "19cb8180-ffb7-400d-828d-d3d5d8458858",
   "metadata": {},
   "source": [
    "### Test"
   ]
  },
  {
   "cell_type": "code",
   "execution_count": 36,
   "id": "8a0c54fc-67ea-4016-921c-3c7b118bd216",
   "metadata": {},
   "outputs": [],
   "source": [
    "# should run without error, 0 values in each column that are 0\n",
    "for col in delay_cols:\n",
    "    assert df_copy[df_copy[col] == 0].shape[0] == 0 "
   ]
  },
  {
   "cell_type": "markdown",
   "id": "11f705d6-c8fa-478d-9563-425773db57b7",
   "metadata": {},
   "source": [
    "## 11. Drop Cancelled and Diverted Columns\n",
    "### Define\n",
    "Drop the columns 'cancelled', ''cancellationcode, and 'diverted'.\n",
    "### Code"
   ]
  },
  {
   "cell_type": "code",
   "execution_count": 37,
   "id": "8f0cad3a-2cb6-4ac8-9246-dc3917427685",
   "metadata": {},
   "outputs": [],
   "source": [
    "df_copy.drop(columns = {'cancelled','cancellationcode','diverted'}, inplace = True)"
   ]
  },
  {
   "cell_type": "markdown",
   "id": "ee239be0-d5fd-40c3-8cfc-389c6f78cad6",
   "metadata": {},
   "source": [
    "### Test"
   ]
  },
  {
   "cell_type": "code",
   "execution_count": 38,
   "id": "395d4146-5914-4d38-b509-7d3535bf133c",
   "metadata": {},
   "outputs": [
    {
     "data": {
      "text/plain": [
       "Index(['year', 'month', 'dayofmonth', 'dayofweek', 'deptime', 'crsdeptime',\n",
       "       'arrtime', 'crsarrtime', 'uniquecarrier', 'flightnum', 'tailnum',\n",
       "       'actualelapsedtime', 'crselapsedtime', 'airtime', 'arrdelay',\n",
       "       'depdelay', 'origin', 'dest', 'distance', 'taxiin', 'taxiout',\n",
       "       'carrierdelay', 'weatherdelay', 'nasdelay', 'securitydelay',\n",
       "       'lateaircraftdelay', 'date'],\n",
       "      dtype='object')"
      ]
     },
     "execution_count": 38,
     "metadata": {},
     "output_type": "execute_result"
    }
   ],
   "source": [
    "# cancelled and diverted columns should be gone\n",
    "df_copy.columns"
   ]
  },
  {
   "cell_type": "markdown",
   "id": "02c5a890-0172-4cf1-8fe3-ab47283464c7",
   "metadata": {},
   "source": [
    "## Save Cleaned Dataset to CSV and Reupload to DF"
   ]
  },
  {
   "cell_type": "code",
   "execution_count": 39,
   "id": "3e11528b-0cfd-4e1d-8620-28248ba41862",
   "metadata": {},
   "outputs": [],
   "source": [
    "df_copy.to_csv('CLEAN_combined_atl_flights.csv', index = False)"
   ]
  },
  {
   "cell_type": "code",
   "execution_count": 40,
   "id": "47a6e0ef-b554-481f-92ff-04edf977834e",
   "metadata": {},
   "outputs": [],
   "source": [
    "# reupload cleaned data\n",
    "df = pd.read_csv('CLEAN_combined_atl_flights.csv', dtype = {'tailnum': 'object'})"
   ]
  },
  {
   "cell_type": "code",
   "execution_count": 41,
   "id": "63c18636-4cc5-4c66-9aca-b0133a6e6f46",
   "metadata": {},
   "outputs": [],
   "source": [
    "# create categorical dtype months with calendar.month_name list as order\n",
    "months = pd.api.types.CategoricalDtype(ordered = True, categories = calendar.month_name[1:])\n",
    "df['month'] = df['month'].astype(months)\n",
    "\n"
   ]
  },
  {
   "cell_type": "code",
   "execution_count": 42,
   "id": "75878e49-a25e-4500-bf78-405babd5517a",
   "metadata": {},
   "outputs": [],
   "source": [
    "# get ordered list of weekdays\n",
    "days_of_week_list = ['Monday','Tuesday','Wednesday','Thursday','Friday','Saturday','Sunday']\n",
    "# make into categorical dtype\n",
    "days_of_week = pd.api.types.CategoricalDtype(ordered = True, categories = days_of_week_list)\n",
    "\n",
    "# typecast dayofweek to above dtype\n",
    "df['dayofweek'] = df['dayofweek'].astype(days_of_week)"
   ]
  },
  {
   "cell_type": "markdown",
   "id": "bcf5ca37-8a74-4a83-aed4-2a0a62c7cece",
   "metadata": {},
   "source": [
    "# Exploratory Analysis"
   ]
  },
  {
   "cell_type": "code",
   "execution_count": 43,
   "id": "f605c6e9-c454-4a18-b505-983e96a288f0",
   "metadata": {},
   "outputs": [
    {
     "data": {
      "text/plain": [
       "(431377, 27)"
      ]
     },
     "execution_count": 43,
     "metadata": {},
     "output_type": "execute_result"
    }
   ],
   "source": [
    "# get shape of dataframe\n",
    "df.shape"
   ]
  },
  {
   "cell_type": "markdown",
   "id": "21b72b8a-ea02-4148-b51f-9557082db1ec",
   "metadata": {},
   "source": [
    "There are 431,377 flights in my dataset and, after cleaning, 30 features: \n",
    "* columns for date and time ('year', 'month', 'dayofmonth', 'dayofweek','date')\n",
    "* columns for computer predicted(crs) and actual arrival, departure and elapsed time \n",
    "* columns with numeric details about the flight ('airtime, taxiin','taxiout','distance')\n",
    "* columns with qualitative details about the flight ('uniquecarrier','flightnum','tailnum')\n",
    "* columns that detail types and duration of delays in minutes ('arrdelay','depdelay','carrierdelay','weatherdelay', 'nasdelay',   'securitydelay', 'lateaircraftdelay'\n",
    "\n",
    "\n",
    "The column I'll be focusing on is the \"arrdelay\" column, which shows difference in actual and predicted arrival time. I want to see if any features are strongly associated with higher or lower values for this column, and whether they could be used to predict it. \n",
    "\n",
    "Features I expect to strongly influence arrival delays are time of year and airport of origin/destination, both due to weather and flight volume, and distance. My expectation is that longer distances provide more room for error. \n",
    "\n",
    "# Univariate Exploration\n",
    "To begin with, I'll look at the variable I want to predict: difference in arrival time. \n",
    "### Arrival Time"
   ]
  },
  {
   "cell_type": "code",
   "execution_count": 44,
   "id": "b19890aa-a5aa-4921-b5a5-917a28fe6e59",
   "metadata": {},
   "outputs": [
    {
     "data": {
      "text/plain": [
       "count    431377.000000\n",
       "mean          8.994001\n",
       "std          29.895429\n",
       "min         -60.000000\n",
       "25%          -6.000000\n",
       "50%           2.000000\n",
       "75%          13.000000\n",
       "max         916.000000\n",
       "Name: arrdelay, dtype: float64"
      ]
     },
     "execution_count": 44,
     "metadata": {},
     "output_type": "execute_result"
    },
    {
     "data": {
      "image/png": "[encoded data removed]",
      "text/plain": [
       "<Figure size 576x360 with 1 Axes>"
      ]
     },
     "metadata": {
      "needs_background": "light"
     },
     "output_type": "display_data"
    }
   ],
   "source": [
    "# begin with a histogram\n",
    "bins = np.arange(df.arrdelay.min(), df.arrdelay.max() + 1, 1)\n",
    "plt.figure(figsize=(8, 5))\n",
    "plt.hist(df['arrdelay'], bins = bins)\n",
    "plt.xlabel('arrival delay (mins)');\n",
    "df.arrdelay.describe()"
   ]
  },
  {
   "cell_type": "markdown",
   "id": "a1a731f7-bf50-4470-bd51-49b192791be0",
   "metadata": {},
   "source": [
    "So the first histogram is difficult to read due to outliers. Although delays of this length are very possible, I'll check the maximum delay value to see if it's valid."
   ]
  },
  {
   "cell_type": "code",
   "execution_count": 45,
   "id": "3dccbdfd-8c26-4e50-adf6-52464b679041",
   "metadata": {},
   "outputs": [
    {
     "data": {
      "text/plain": [
       "year                       2002\n",
       "month                  February\n",
       "dayofmonth                    9\n",
       "dayofweek              Saturday\n",
       "deptime                07:51:00\n",
       "crsdeptime             17:04:00\n",
       "arrtime                09:22:00\n",
       "crsarrtime             18:06:00\n",
       "uniquecarrier                AA\n",
       "flightnum                  1327\n",
       "tailnum                  N504A1\n",
       "actualelapsedtime         151.0\n",
       "crselapsedtime            122.0\n",
       "airtime                    90.0\n",
       "arrdelay                  916.0\n",
       "depdelay                  887.0\n",
       "origin                      ATL\n",
       "dest                        ORD\n",
       "distance                  606.0\n",
       "taxiin                      5.0\n",
       "taxiout                    56.0\n",
       "carrierdelay                NaN\n",
       "weatherdelay                NaN\n",
       "nasdelay                    NaN\n",
       "securitydelay               NaN\n",
       "lateaircraftdelay           NaN\n",
       "date                 2002-02-09\n",
       "Name: 296384, dtype: object"
      ]
     },
     "execution_count": 45,
     "metadata": {},
     "output_type": "execute_result"
    }
   ],
   "source": [
    "# see row for max arrdelay\n",
    "df.iloc[df.arrdelay.argmax()]"
   ]
  },
  {
   "cell_type": "markdown",
   "id": "e9b28f8d-c664-4e25-9232-38635f29eebf",
   "metadata": {},
   "source": [
    "Everything looks correct. I suspect the other high values will be correct as well. Instead of dropping, etc., I'll zoom in on the histogram below to look at the bulk of the data."
   ]
  },
  {
   "cell_type": "code",
   "execution_count": 46,
   "id": "544148b5-e86a-4d72-9c2c-578ef1a6b580",
   "metadata": {},
   "outputs": [
    {
     "data": {
      "image/png": "[encoded data removed]",
      "text/plain": [
       "<Figure size 576x360 with 1 Axes>"
      ]
     },
     "metadata": {
      "needs_background": "light"
     },
     "output_type": "display_data"
    }
   ],
   "source": [
    "# plot histogram\n",
    "plt.figure(figsize=(8, 5))\n",
    "plt.hist(df['arrdelay'], bins = bins)\n",
    "plt.xlabel('arrival delay (mins)');\n",
    "\n",
    "# set x limits to zoom in \n",
    "plt.xlim(df.arrdelay.min() - 1, 200);"
   ]
  },
  {
   "cell_type": "markdown",
   "id": "688a8dab-2103-4d47-a44f-cac300485c87",
   "metadata": {},
   "source": [
    "The distribution is unimodal, with most of the data concentrated close to zero. A significant portion of flights arrive ahead of schedule, but the data is right-skewed with a long tail. \n",
    "\n"
   ]
  },
  {
   "cell_type": "markdown",
   "id": "980b5b92-2fbe-4834-8ad6-2ce2891f8677",
   "metadata": {},
   "source": [
    "### Airports\n",
    "Now I'll look at destination airports and origin airports. I'll start by seeing how many different airports appear in the dataset. I'll also see how many times Atlanta appears. "
   ]
  },
  {
   "cell_type": "code",
   "execution_count": 47,
   "id": "f8e2fd7b-2803-474f-8141-b61af024b430",
   "metadata": {},
   "outputs": [
    {
     "name": "stdout",
     "output_type": "stream",
     "text": [
      "191\n",
      "194\n"
     ]
    }
   ],
   "source": [
    "# see how many different values for each variable\n",
    "print(df.origin.nunique())\n",
    "print(df.dest.nunique())\n"
   ]
  },
  {
   "cell_type": "code",
   "execution_count": 48,
   "id": "ec95c603-f6e1-4269-97d4-b2f4c4376077",
   "metadata": {},
   "outputs": [
    {
     "name": "stdout",
     "output_type": "stream",
     "text": [
      "215989\n",
      "215388\n"
     ]
    }
   ],
   "source": [
    "# see how many times ATL is origin and destination\n",
    "print(df[df.origin == 'ATL'].shape[0])\n",
    "print(df[df.dest == 'ATL'].shape[0])\n"
   ]
  },
  {
   "cell_type": "markdown",
   "id": "e68777e8-f653-44c1-b9bf-2c8b6fcd7728",
   "metadata": {},
   "source": [
    "I can't plot over 190 different values, so instead I'm going to pull the top 30 airports, excluding Atlanta. The above query shows that plotting with ATL as a value would lead to not seeing the other values in the plot."
   ]
  },
  {
   "cell_type": "code",
   "execution_count": 49,
   "id": "8305cf0d-72c3-4078-8b83-6f30f8566ea4",
   "metadata": {},
   "outputs": [
    {
     "data": {
      "image/png": "[encoded data removed]",
      "text/plain": [
       "<Figure size 1080x504 with 2 Axes>"
      ]
     },
     "metadata": {
      "needs_background": "light"
     },
     "output_type": "display_data"
    }
   ],
   "source": [
    "# make barplots to show count for each of top 30 airports for Dest and Origin\n",
    "\n",
    "fig, ax = plt.subplots(1,2, figsize=(15, 7))\n",
    "# get list of 30 airports that appear most in dataset, minus ATL(index 0)\n",
    "origins = df.origin.value_counts()[1:31].index\n",
    "destinations = df.dest.value_counts()[1:31].index\n",
    "\n",
    "# create color for graphs\n",
    "base_color = sb.color_palette()[0]\n",
    "\n",
    "# plot barplots\n",
    "sb.countplot(data = df[df.origin.isin(origins)], y = 'origin', order = origins,\n",
    "             color = base_color, ax = ax[0])\n",
    "sb.countplot(data = df[df.dest.isin(destinations)], y = 'dest', order = destinations,\n",
    "             color = base_color, ax = ax[1]);\n",
    "ax[0].title.set_text('Origin Airport Count')\n",
    "ax[1].title.set_text('destination Airport Count');\n",
    "\n"
   ]
  },
  {
   "cell_type": "markdown",
   "id": "5ac190b1-e76d-44a2-a05b-21549d6b841d",
   "metadata": {},
   "source": [
    "In these top thirty airports for destination and origin, the lowest counts are at around 2600, and the highest close to 7000. The airports are the same in both, but the order is slightly different. The two most important airports, by far, are Dallas Fort Worth and Chicago O'hare."
   ]
  },
  {
   "cell_type": "markdown",
   "id": "d3611555-261a-4aa7-a5bc-574d429fae6c",
   "metadata": {},
   "source": [
    "Now I'll move onto day of the week and month. \n",
    "### Day of the Week and Month"
   ]
  },
  {
   "cell_type": "code",
   "execution_count": 50,
   "id": "b321ad86-c92b-4be5-963b-6335acff0da2",
   "metadata": {},
   "outputs": [
    {
     "data": {
      "image/png": "[encoded data removed]",
      "text/plain": [
       "<Figure size 576x720 with 2 Axes>"
      ]
     },
     "metadata": {
      "needs_background": "light"
     },
     "output_type": "display_data"
    }
   ],
   "source": [
    "# make barplots to show count for day of week and month\n",
    "\n",
    "fig, ax = plt.subplots(2,1, figsize=(8, 10))\n",
    "\n",
    "sb.countplot(data = df, x = 'dayofweek',\n",
    "             color = base_color, ax = ax[0])\n",
    "sb.countplot(data = df, y = 'month',\n",
    "             color = base_color, ax = ax[1]);\n",
    "\n",
    "ax[0].set_title('Day of Week Count')\n",
    "ax[1].set_title('Month Count');"
   ]
  },
  {
   "cell_type": "markdown",
   "id": "72af3b32-c981-4a90-91bd-f9fd5259562c",
   "metadata": {},
   "source": [
    "All the days of the week are more or less equally respresented. There are slightly fewer flights on Saturday. \n",
    "\n",
    "The most respresented months are October, November and December. The latter two are because of holidays, I imagine, but October comes as a surprise.\n",
    "### Distance\n",
    "Finally, I'll take a look at distance, which I expect to be key in determining arrival delays."
   ]
  },
  {
   "cell_type": "code",
   "execution_count": 51,
   "id": "76dacd85-b341-4144-b620-8b5df2a87fd4",
   "metadata": {},
   "outputs": [
    {
     "data": {
      "text/plain": [
       "count    431115.000000\n",
       "mean        618.429665\n",
       "std         446.088593\n",
       "min          79.000000\n",
       "25%         341.000000\n",
       "50%         545.000000\n",
       "75%         732.000000\n",
       "max        4502.000000\n",
       "Name: distance, dtype: float64"
      ]
     },
     "execution_count": 51,
     "metadata": {},
     "output_type": "execute_result"
    },
    {
     "data": {
      "image/png": "[encoded data removed]",
      "text/plain": [
       "<Figure size 576x360 with 1 Axes>"
      ]
     },
     "metadata": {
      "needs_background": "light"
     },
     "output_type": "display_data"
    }
   ],
   "source": [
    "# plot a histogram of distance\n",
    "plt.figure(figsize = (8,5))\n",
    "bins = np.arange(0, df.distance.max() + 100, 100)\n",
    "plt.hist(df.distance, bins = bins)\n",
    "plt.xlabel('distance (in miles)');\n",
    "df.distance.describe()"
   ]
  },
  {
   "cell_type": "markdown",
   "id": "a23ac4f6-87a2-41f0-8811-ef495f0dc40b",
   "metadata": {},
   "source": [
    "Unlike the other numeric variables, for distance, there are a fixed number of destinations, and the distance between them never changes. Most of the data is concentrated below 1000 miles from Atlanta, and above 1000, the bars starts to spread out. There is one outlier bar which I expect to be Hawaii. "
   ]
  },
  {
   "cell_type": "code",
   "execution_count": 52,
   "id": "3fe3a0eb-22a2-463e-97dc-e056d39a28e9",
   "metadata": {},
   "outputs": [
    {
     "data": {
      "text/plain": [
       "array(['ATL', 'HNL', 'OGG'], dtype=object)"
      ]
     },
     "execution_count": 52,
     "metadata": {},
     "output_type": "execute_result"
    }
   ],
   "source": [
    "df[df.distance > 4000].dest.unique()"
   ]
  },
  {
   "cell_type": "markdown",
   "id": "0d2bc960-14e0-4ea7-b257-b7dfdeb2d15a",
   "metadata": {},
   "source": [
    "HNL and OGG are Honolulu and Kahului airports, respectively. \n",
    "\n",
    "That is all for univariate exploration of the variables I expect to be most correlated with arrival delays. I will now check the distributions of the other variables I think could be interesting. \n",
    "### Departure Delay"
   ]
  },
  {
   "cell_type": "code",
   "execution_count": 53,
   "id": "3ec3be51-6357-4578-bc8f-b23e0ed9f7fb",
   "metadata": {},
   "outputs": [
    {
     "data": {
      "image/png": "[encoded data removed]",
      "text/plain": [
       "<Figure size 432x288 with 1 Axes>"
      ]
     },
     "metadata": {
      "needs_background": "light"
     },
     "output_type": "display_data"
    }
   ],
   "source": [
    "#plot histogram\n",
    "bins = np.arange(df['depdelay'].min(), df['depdelay'].max() + 1, 1)\n",
    "plt.hist(df.depdelay, bins = bins)\n",
    "plt.xlabel('Departure Delay (in mins)');"
   ]
  },
  {
   "cell_type": "code",
   "execution_count": 54,
   "id": "5cd66815-6daa-4ecc-a90a-08c62580ecc8",
   "metadata": {},
   "outputs": [
    {
     "data": {
      "image/png": "[encoded data removed]",
      "text/plain": [
       "<Figure size 432x288 with 1 Axes>"
      ]
     },
     "metadata": {
      "needs_background": "light"
     },
     "output_type": "display_data"
    }
   ],
   "source": [
    "# plot histogram zoomed in with modified x limits\n",
    "plt.hist(df.depdelay, bins = bins)\n",
    "plt.xlim(-40, 150)\n",
    "plt.xlabel('Departure Delay (in mins)');"
   ]
  },
  {
   "cell_type": "markdown",
   "id": "417c869c-0646-4bf8-a1da-3166bdd113f4",
   "metadata": {},
   "source": [
    "It looks as if there are regular peaks in the data. I'll zoom in more by modifying the y limits to see."
   ]
  },
  {
   "cell_type": "code",
   "execution_count": 55,
   "id": "21431f2a-e003-42e7-881f-0a9c5a5953f3",
   "metadata": {},
   "outputs": [
    {
     "data": {
      "image/png": "[encoded data removed]",
      "text/plain": [
       "<Figure size 432x288 with 1 Axes>"
      ]
     },
     "metadata": {
      "needs_background": "light"
     },
     "output_type": "display_data"
    }
   ],
   "source": [
    "# plot histogram zoomed in with modified x and y limits\n",
    "\n",
    "plt.hist(df.depdelay, bins = bins)\n",
    "plt.xlim(-40, 150)\n",
    "plt.ylim(0, 3000)\n",
    "plt.xlabel('Departure Delay (in mins)');"
   ]
  },
  {
   "cell_type": "markdown",
   "id": "37c321d3-6b03-4f0d-8bc1-afb6f31a89a2",
   "metadata": {},
   "source": [
    "Departure Delay will clearly be correlated to arrival delay to some degree. Late departures often end in late arrivals. For that reason, it might seem pointless to examine it in detail. However, looking at this variable will be interesting to see how often an arrival delay is the result of a departure delay and how often it is caused by something that happens after takeoff. \n",
    "\n",
    "The three histograms tell us a lot about this variable. First, an overwhelming amount of the points fall on zero. The data is right-skewed. Yet there are peaks at more or less every 5 minute increase. I don't think that departure delays are regularly divisible by 5. Perhaps this is a data entry error due to rounding off to the nearest five minutes? \n",
    "### Unique Carrier\n",
    "Now I'll look at the counts for carriers going to and from ATL."
   ]
  },
  {
   "cell_type": "code",
   "execution_count": 56,
   "id": "0a24f615-7a5c-445c-978e-9569ce27f5ba",
   "metadata": {},
   "outputs": [
    {
     "data": {
      "image/png": "[encoded data removed]",
      "text/plain": [
       "<Figure size 576x360 with 1 Axes>"
      ]
     },
     "metadata": {
      "needs_background": "light"
     },
     "output_type": "display_data"
    }
   ],
   "source": [
    "# get carriers in descending order\n",
    "order = df.uniquecarrier.value_counts().index\n",
    "\n",
    "# plot bar graph with counts\n",
    "plt.figure(figsize = (8,5))\n",
    "sb.countplot(data = df, y = 'uniquecarrier', order = order, color = base_color)\n",
    "plt.ylabel('carrier')\n",
    "plt.title('Carriers to and from ATL');"
   ]
  },
  {
   "cell_type": "code",
   "execution_count": 57,
   "id": "d92c074a-0baf-4432-9ca5-c27380b905c8",
   "metadata": {},
   "outputs": [
    {
     "data": {
      "image/png": "[encoded data removed]",
      "text/plain": [
       "<Figure size 576x360 with 1 Axes>"
      ]
     },
     "metadata": {
      "needs_background": "light"
     },
     "output_type": "display_data"
    }
   ],
   "source": [
    "# zoom in on other carriers by plotting all carriers except DL\n",
    "order = df[df.uniquecarrier != 'DL'].uniquecarrier.value_counts().index\n",
    "\n",
    "plt.figure(figsize = (8,5))\n",
    "sb.countplot(data = df[df.uniquecarrier != 'DL'], y = 'uniquecarrier', order = order, color = base_color)\n",
    "plt.ylabel('carrier')\n",
    "plt.title('Carriers to and from ATL ( minus DL)');"
   ]
  },
  {
   "cell_type": "markdown",
   "id": "b0903161-1f57-404c-92e3-e2b08ef8a63d",
   "metadata": {},
   "source": [
    "Unsurprisingly, Delta Airlines (DL) is the most frequent carrier in the dataset. The company is based out of Atlanta. When they are removed from the barplot, I can see that many other carriers represent a significant number of flights. Some carriers like B6, on the other hand, represent so few flights that I'll need to be wary of using them for any statistical analysis.\n",
    "### Other Delay Columns\n",
    "Lastly, I'll plot the other delay columns. Like departure delay, I expect them to be strongly correlated to arrival delay. examining them will tell me what type of delays are most common."
   ]
  },
  {
   "cell_type": "code",
   "execution_count": 58,
   "id": "e9f73a89-4599-4910-9cc7-6afc637e97f5",
   "metadata": {},
   "outputs": [
    {
     "data": {
      "image/png": "[encoded data removed]",
      "text/plain": [
       "<Figure size 576x1584 with 5 Axes>"
      ]
     },
     "metadata": {
      "needs_background": "light"
     },
     "output_type": "display_data"
    }
   ],
   "source": [
    "# make list of delay columns\n",
    "delay_cols = ['carrierdelay','weatherdelay','nasdelay','securitydelay','lateaircraftdelay']\n",
    "\n",
    "fig, ax = plt.subplots(5,1, figsize = [8,22])\n",
    "\n",
    "# plot histogram of each delay column\n",
    "for i in range(len(delay_cols)):\n",
    "    var = delay_cols[i]\n",
    "    bins = np.arange(0, df[var].max() + 1, 1)\n",
    "    ax[i].hist(data = df, x = var, bins = bins)\n",
    "    ax[i].set_xlabel('{}'.format(var + ' (in mins)'))"
   ]
  },
  {
   "cell_type": "markdown",
   "id": "7696e177-eec2-4e92-99a9-3dec316aff20",
   "metadata": {},
   "source": [
    "Almost all of the delay columns have a similar shape, unimodal and right skewed. The exceptions are nasdelay, which is bimodal and security delay, which is sparse due to few non-null points. Like with certain carriers, I'll need to be wary when looking at this variable. \n",
    "### Univariate Findings\n",
    "The distribution of the variable of interest, arrival delay, was as expected. Right-skewed and unimodal, with most points congregated around 0. \n",
    "\n",
    "The other variables also had predictable distributions. The numeric variables had some outliers, but as I suspect they are all valid points, I simply zoomed in on the bulk of the data instead of dropping or modifying in any way. The categorical variables destination, origin, and unique carrier were dominated by Atlanta and Delta Airlines. In order to get a clearer picture of the counts, I removed these values from the barplots. \n",
    "\n",
    "Moving forward, it will be important to remember that certain carriers and airports represent very few datapoints. The column for security delay also has very few non-null values."
   ]
  },
  {
   "cell_type": "markdown",
   "id": "bf23ca5c-e7de-4b26-8f3f-4add5fcb9241",
   "metadata": {},
   "source": [
    "# Bivariate Exploration"
   ]
  },
  {
   "cell_type": "markdown",
   "id": "a767c416-77cf-4a15-93f7-d90a70dcc553",
   "metadata": {},
   "source": [
    "I'll begin by checking the correlation of the numeric variables. "
   ]
  },
  {
   "cell_type": "code",
   "execution_count": 59,
   "id": "1708c8b7-8a3a-48d7-bed9-8dfa77382b7c",
   "metadata": {},
   "outputs": [],
   "source": [
    "# list of numeric variables of interest\n",
    "numeric_vars = ['arrdelay','depdelay','airtime','distance','taxiin','taxiout','carrierdelay',\n",
    "                'weatherdelay','nasdelay','securitydelay','lateaircraftdelay']"
   ]
  },
  {
   "cell_type": "code",
   "execution_count": 60,
   "id": "2d5cd498-62df-4982-bb92-239c33cbe247",
   "metadata": {},
   "outputs": [
    {
     "data": {
      "image/png": "[encoded data removed]",
      "text/plain": [
       "<Figure size 936x648 with 2 Axes>"
      ]
     },
     "metadata": {
      "needs_background": "light"
     },
     "output_type": "display_data"
    }
   ],
   "source": [
    "# plot correlation heatmap\n",
    "plt.figure(figsize = (13,9))\n",
    "sb.heatmap(df[numeric_vars].corr(),annot = True, cmap = 'vlag_r', center = 0)\n",
    "plt.title('Correlation Heatmap for Numeric Variables');"
   ]
  },
  {
   "cell_type": "markdown",
   "id": "68ce4e15-fad2-4f62-9c92-46ea395f3bea",
   "metadata": {},
   "source": [
    "The only variables that have a significant correlation are all of the delay columns against depdelay and arrdelay, and airtime against distance. This is not surprising. However, two things are interesting to note. The high correlation beteeen departure delay and arrival delay could imply that most late arrivals are caused by something that occurs *before* takeoff. The higher correlation of NAS delay against arrival delay than departure delay, however, goes against this line of thought. \n",
    "\n",
    "Distance and airtime are highly correlated, but this is obvious. Far-away destinations require more airtime. Contrary to my initial assumption, distance doesn't appear to have much influence on arrival delays or any other delay type, for that matter.\n",
    "\n",
    "As for the high negative correlation between security and late aircraft, I believe it is due to the small number of security delay observations that aren't null, but I will do a quick check."
   ]
  },
  {
   "cell_type": "code",
   "execution_count": 61,
   "id": "6c29eec2-413e-4e82-90a5-6ee1bfa77cbe",
   "metadata": {},
   "outputs": [
    {
     "data": {
      "text/plain": [
       "3"
      ]
     },
     "execution_count": 61,
     "metadata": {},
     "output_type": "execute_result"
    }
   ],
   "source": [
    "# check security delay against lateaircraftdelay\n",
    "df[(~df.lateaircraftdelay.isnull()) & (~df.securitydelay.isnull())].shape[0]"
   ]
  },
  {
   "cell_type": "markdown",
   "id": "84762fcc-cbaf-4422-bd7e-3e619e9f36ae",
   "metadata": {},
   "source": [
    "The two variables only correspond on 3 rows, so comparing them is not informative. "
   ]
  },
  {
   "cell_type": "markdown",
   "id": "1bad1179-b740-40ac-90a4-2699e7daea7a",
   "metadata": {},
   "source": [
    "## Depdelay Against Arrdelay\n",
    "I want to look into the relationship between depdelay and arrdelay, since they are so highly correlated."
   ]
  },
  {
   "cell_type": "code",
   "execution_count": 62,
   "id": "e369a013-bcc6-4e6e-8b4f-b90a4f4bb29d",
   "metadata": {},
   "outputs": [
    {
     "data": {
      "text/plain": [
       "Text(0, 0.5, 'Arrival Delay (in mins)')"
      ]
     },
     "execution_count": 62,
     "metadata": {},
     "output_type": "execute_result"
    },
    {
     "data": {
      "image/png": "[encoded data removed]",
      "text/plain": [
       "<Figure size 576x360 with 1 Axes>"
      ]
     },
     "metadata": {
      "needs_background": "light"
     },
     "output_type": "display_data"
    }
   ],
   "source": [
    "# scatterplot of depdelay vs arrdelay\n",
    "plt.figure(figsize = (8,5))\n",
    "plt.scatter(df.depdelay, df.arrdelay, alpha = 0.2)\n",
    "plt.title('Departure Delay Against Arrival Delay')\n",
    "plt.xlabel('Departure Delay (in mins)')\n",
    "plt.ylabel('Arrival Delay (in mins)')"
   ]
  },
  {
   "cell_type": "markdown",
   "id": "d1961c2a-3cdc-4d72-af40-db1849be35de",
   "metadata": {},
   "source": [
    "I see some outliers. It is hard to believe that a departure delay of almost 23 hours can cause no arrival delay. "
   ]
  },
  {
   "cell_type": "code",
   "execution_count": 63,
   "id": "1b5f6bcb-9dd1-4a9a-9e9d-d549a727f1ba",
   "metadata": {},
   "outputs": [
    {
     "data": {
      "text/plain": [
       "47"
      ]
     },
     "execution_count": 63,
     "metadata": {},
     "output_type": "execute_result"
    }
   ],
   "source": [
    "# see how many rows have high depdelay\n",
    "df[df.depdelay > 1200].shape[0]"
   ]
  },
  {
   "cell_type": "markdown",
   "id": "cc608772-5789-4785-b6b2-d1e430f3e823",
   "metadata": {},
   "source": [
    "Since there are only 47 rows with such high depdelay, I'm going to drop them."
   ]
  },
  {
   "cell_type": "code",
   "execution_count": 64,
   "id": "ba6b6043-e9b7-4946-84d8-3aed73fd5465",
   "metadata": {},
   "outputs": [],
   "source": [
    "# get index for high depdelay and drop\n",
    "bad_inx = df[df.depdelay > 1200].index\n",
    "df.drop(bad_inx, axis = 0, inplace = True)"
   ]
  },
  {
   "cell_type": "code",
   "execution_count": 65,
   "id": "046bed62-12b3-4f7c-81f4-48c0d6648517",
   "metadata": {},
   "outputs": [
    {
     "data": {
      "text/html": [
       "<div>\n",
       "<style scoped>\n",
       "    .dataframe tbody tr th:only-of-type {\n",
       "        vertical-align: middle;\n",
       "    }\n",
       "\n",
       "    .dataframe tbody tr th {\n",
       "        vertical-align: top;\n",
       "    }\n",
       "\n",
       "    .dataframe thead th {\n",
       "        text-align: right;\n",
       "    }\n",
       "</style>\n",
       "<table border=\"1\" class=\"dataframe\">\n",
       "  <thead>\n",
       "    <tr style=\"text-align: right;\">\n",
       "      <th></th>\n",
       "      <th>depdelay</th>\n",
       "      <th>arrdelay</th>\n",
       "    </tr>\n",
       "  </thead>\n",
       "  <tbody>\n",
       "    <tr>\n",
       "      <th>depdelay</th>\n",
       "      <td>1.000000</td>\n",
       "      <td>0.903204</td>\n",
       "    </tr>\n",
       "    <tr>\n",
       "      <th>arrdelay</th>\n",
       "      <td>0.903204</td>\n",
       "      <td>1.000000</td>\n",
       "    </tr>\n",
       "  </tbody>\n",
       "</table>\n",
       "</div>"
      ],
      "text/plain": [
       "          depdelay  arrdelay\n",
       "depdelay  1.000000  0.903204\n",
       "arrdelay  0.903204  1.000000"
      ]
     },
     "execution_count": 65,
     "metadata": {},
     "output_type": "execute_result"
    }
   ],
   "source": [
    "# recheck correlation between depdelay and arrdelay\n",
    "df[['depdelay','arrdelay']].corr()"
   ]
  },
  {
   "cell_type": "code",
   "execution_count": 66,
   "id": "2403bdab-e2c3-4df6-86d2-21a6e4304992",
   "metadata": {},
   "outputs": [
    {
     "data": {
      "image/png": "[encoded data removed]",
      "text/plain": [
       "<Figure size 576x360 with 1 Axes>"
      ]
     },
     "metadata": {
      "needs_background": "light"
     },
     "output_type": "display_data"
    }
   ],
   "source": [
    "# replot scatterplot\n",
    "plt.figure(figsize = (8,5))\n",
    "plt.scatter(df.depdelay, df.arrdelay, alpha = 0.2)\n",
    "plt.xlabel('Departure Delay (in minutes)')\n",
    "plt.ylabel('Arrival Delay (in minutes)')\n",
    "plt.title('Arrival Delays vs. Departure Delays');"
   ]
  },
  {
   "cell_type": "markdown",
   "id": "21f40287-b586-49db-9521-54326e6349e1",
   "metadata": {},
   "source": [
    "The scatter plot has a very strong linear shape. This confirms my thought that most arrival delays are at least in part accompanied by a departure delay. However, there is a break in the linear pattern around where depdelay = 0. "
   ]
  },
  {
   "cell_type": "code",
   "execution_count": 67,
   "id": "975784fe-9931-4bf1-91e2-e3a18a37e36e",
   "metadata": {},
   "outputs": [
    {
     "data": {
      "text/html": [
       "<div>\n",
       "<style scoped>\n",
       "    .dataframe tbody tr th:only-of-type {\n",
       "        vertical-align: middle;\n",
       "    }\n",
       "\n",
       "    .dataframe tbody tr th {\n",
       "        vertical-align: top;\n",
       "    }\n",
       "\n",
       "    .dataframe thead th {\n",
       "        text-align: right;\n",
       "    }\n",
       "</style>\n",
       "<table border=\"1\" class=\"dataframe\">\n",
       "  <thead>\n",
       "    <tr style=\"text-align: right;\">\n",
       "      <th></th>\n",
       "      <th>year</th>\n",
       "      <th>month</th>\n",
       "      <th>dayofmonth</th>\n",
       "      <th>dayofweek</th>\n",
       "      <th>deptime</th>\n",
       "      <th>crsdeptime</th>\n",
       "      <th>arrtime</th>\n",
       "      <th>crsarrtime</th>\n",
       "      <th>uniquecarrier</th>\n",
       "      <th>flightnum</th>\n",
       "      <th>...</th>\n",
       "      <th>dest</th>\n",
       "      <th>distance</th>\n",
       "      <th>taxiin</th>\n",
       "      <th>taxiout</th>\n",
       "      <th>carrierdelay</th>\n",
       "      <th>weatherdelay</th>\n",
       "      <th>nasdelay</th>\n",
       "      <th>securitydelay</th>\n",
       "      <th>lateaircraftdelay</th>\n",
       "      <th>date</th>\n",
       "    </tr>\n",
       "  </thead>\n",
       "  <tbody>\n",
       "    <tr>\n",
       "      <th>0</th>\n",
       "      <td>1987</td>\n",
       "      <td>October</td>\n",
       "      <td>1</td>\n",
       "      <td>Thursday</td>\n",
       "      <td>19:37:00</td>\n",
       "      <td>19:37:00</td>\n",
       "      <td>21:40:00</td>\n",
       "      <td>21:29:00</td>\n",
       "      <td>EA</td>\n",
       "      <td>734</td>\n",
       "      <td>...</td>\n",
       "      <td>ABE</td>\n",
       "      <td>692.0</td>\n",
       "      <td>NaN</td>\n",
       "      <td>NaN</td>\n",
       "      <td>NaN</td>\n",
       "      <td>NaN</td>\n",
       "      <td>NaN</td>\n",
       "      <td>NaN</td>\n",
       "      <td>NaN</td>\n",
       "      <td>1987-10-01</td>\n",
       "    </tr>\n",
       "    <tr>\n",
       "      <th>2</th>\n",
       "      <td>1987</td>\n",
       "      <td>October</td>\n",
       "      <td>1</td>\n",
       "      <td>Thursday</td>\n",
       "      <td>06:44:00</td>\n",
       "      <td>06:44:00</td>\n",
       "      <td>07:41:00</td>\n",
       "      <td>07:40:00</td>\n",
       "      <td>DL</td>\n",
       "      <td>521</td>\n",
       "      <td>...</td>\n",
       "      <td>JAX</td>\n",
       "      <td>270.0</td>\n",
       "      <td>NaN</td>\n",
       "      <td>NaN</td>\n",
       "      <td>NaN</td>\n",
       "      <td>NaN</td>\n",
       "      <td>NaN</td>\n",
       "      <td>NaN</td>\n",
       "      <td>NaN</td>\n",
       "      <td>1987-10-01</td>\n",
       "    </tr>\n",
       "    <tr>\n",
       "      <th>4</th>\n",
       "      <td>1987</td>\n",
       "      <td>October</td>\n",
       "      <td>1</td>\n",
       "      <td>Thursday</td>\n",
       "      <td>16:00:00</td>\n",
       "      <td>16:00:00</td>\n",
       "      <td>18:18:00</td>\n",
       "      <td>18:00:00</td>\n",
       "      <td>DL</td>\n",
       "      <td>1084</td>\n",
       "      <td>...</td>\n",
       "      <td>ATL</td>\n",
       "      <td>302.0</td>\n",
       "      <td>NaN</td>\n",
       "      <td>NaN</td>\n",
       "      <td>NaN</td>\n",
       "      <td>NaN</td>\n",
       "      <td>NaN</td>\n",
       "      <td>NaN</td>\n",
       "      <td>NaN</td>\n",
       "      <td>1987-10-01</td>\n",
       "    </tr>\n",
       "    <tr>\n",
       "      <th>5</th>\n",
       "      <td>1987</td>\n",
       "      <td>October</td>\n",
       "      <td>1</td>\n",
       "      <td>Thursday</td>\n",
       "      <td>12:02:00</td>\n",
       "      <td>12:02:00</td>\n",
       "      <td>13:00:00</td>\n",
       "      <td>12:45:00</td>\n",
       "      <td>DL</td>\n",
       "      <td>616</td>\n",
       "      <td>...</td>\n",
       "      <td>ORD</td>\n",
       "      <td>606.0</td>\n",
       "      <td>NaN</td>\n",
       "      <td>NaN</td>\n",
       "      <td>NaN</td>\n",
       "      <td>NaN</td>\n",
       "      <td>NaN</td>\n",
       "      <td>NaN</td>\n",
       "      <td>NaN</td>\n",
       "      <td>1987-10-01</td>\n",
       "    </tr>\n",
       "    <tr>\n",
       "      <th>7</th>\n",
       "      <td>1987</td>\n",
       "      <td>October</td>\n",
       "      <td>1</td>\n",
       "      <td>Thursday</td>\n",
       "      <td>08:20:00</td>\n",
       "      <td>08:20:00</td>\n",
       "      <td>15:56:00</td>\n",
       "      <td>15:43:00</td>\n",
       "      <td>DL</td>\n",
       "      <td>190</td>\n",
       "      <td>...</td>\n",
       "      <td>ATL</td>\n",
       "      <td>2182.0</td>\n",
       "      <td>NaN</td>\n",
       "      <td>NaN</td>\n",
       "      <td>NaN</td>\n",
       "      <td>NaN</td>\n",
       "      <td>NaN</td>\n",
       "      <td>NaN</td>\n",
       "      <td>NaN</td>\n",
       "      <td>1987-10-01</td>\n",
       "    </tr>\n",
       "    <tr>\n",
       "      <th>...</th>\n",
       "      <td>...</td>\n",
       "      <td>...</td>\n",
       "      <td>...</td>\n",
       "      <td>...</td>\n",
       "      <td>...</td>\n",
       "      <td>...</td>\n",
       "      <td>...</td>\n",
       "      <td>...</td>\n",
       "      <td>...</td>\n",
       "      <td>...</td>\n",
       "      <td>...</td>\n",
       "      <td>...</td>\n",
       "      <td>...</td>\n",
       "      <td>...</td>\n",
       "      <td>...</td>\n",
       "      <td>...</td>\n",
       "      <td>...</td>\n",
       "      <td>...</td>\n",
       "      <td>...</td>\n",
       "      <td>...</td>\n",
       "      <td>...</td>\n",
       "    </tr>\n",
       "    <tr>\n",
       "      <th>431294</th>\n",
       "      <td>2008</td>\n",
       "      <td>December</td>\n",
       "      <td>30</td>\n",
       "      <td>Tuesday</td>\n",
       "      <td>10:20:00</td>\n",
       "      <td>10:20:00</td>\n",
       "      <td>12:48:00</td>\n",
       "      <td>12:32:00</td>\n",
       "      <td>FL</td>\n",
       "      <td>368</td>\n",
       "      <td>...</td>\n",
       "      <td>LGA</td>\n",
       "      <td>761.0</td>\n",
       "      <td>5.0</td>\n",
       "      <td>31.0</td>\n",
       "      <td>NaN</td>\n",
       "      <td>NaN</td>\n",
       "      <td>16.0</td>\n",
       "      <td>NaN</td>\n",
       "      <td>NaN</td>\n",
       "      <td>2008-12-30</td>\n",
       "    </tr>\n",
       "    <tr>\n",
       "      <th>431304</th>\n",
       "      <td>2008</td>\n",
       "      <td>December</td>\n",
       "      <td>30</td>\n",
       "      <td>Tuesday</td>\n",
       "      <td>07:00:00</td>\n",
       "      <td>07:00:00</td>\n",
       "      <td>09:02:00</td>\n",
       "      <td>08:54:00</td>\n",
       "      <td>DL</td>\n",
       "      <td>1668</td>\n",
       "      <td>...</td>\n",
       "      <td>ATL</td>\n",
       "      <td>545.0</td>\n",
       "      <td>21.0</td>\n",
       "      <td>17.0</td>\n",
       "      <td>NaN</td>\n",
       "      <td>NaN</td>\n",
       "      <td>NaN</td>\n",
       "      <td>NaN</td>\n",
       "      <td>NaN</td>\n",
       "      <td>2008-12-30</td>\n",
       "    </tr>\n",
       "    <tr>\n",
       "      <th>431323</th>\n",
       "      <td>2008</td>\n",
       "      <td>December</td>\n",
       "      <td>30</td>\n",
       "      <td>Tuesday</td>\n",
       "      <td>16:31:00</td>\n",
       "      <td>16:31:00</td>\n",
       "      <td>19:35:00</td>\n",
       "      <td>19:08:00</td>\n",
       "      <td>EV</td>\n",
       "      <td>5134</td>\n",
       "      <td>...</td>\n",
       "      <td>ATL</td>\n",
       "      <td>552.0</td>\n",
       "      <td>23.0</td>\n",
       "      <td>20.0</td>\n",
       "      <td>NaN</td>\n",
       "      <td>NaN</td>\n",
       "      <td>27.0</td>\n",
       "      <td>NaN</td>\n",
       "      <td>NaN</td>\n",
       "      <td>2008-12-30</td>\n",
       "    </tr>\n",
       "    <tr>\n",
       "      <th>431331</th>\n",
       "      <td>2008</td>\n",
       "      <td>December</td>\n",
       "      <td>31</td>\n",
       "      <td>Wednesday</td>\n",
       "      <td>14:40:00</td>\n",
       "      <td>14:40:00</td>\n",
       "      <td>16:00:00</td>\n",
       "      <td>15:50:00</td>\n",
       "      <td>OH</td>\n",
       "      <td>6352</td>\n",
       "      <td>...</td>\n",
       "      <td>GSO</td>\n",
       "      <td>306.0</td>\n",
       "      <td>8.0</td>\n",
       "      <td>17.0</td>\n",
       "      <td>NaN</td>\n",
       "      <td>NaN</td>\n",
       "      <td>NaN</td>\n",
       "      <td>NaN</td>\n",
       "      <td>NaN</td>\n",
       "      <td>2008-12-31</td>\n",
       "    </tr>\n",
       "    <tr>\n",
       "      <th>431339</th>\n",
       "      <td>2008</td>\n",
       "      <td>December</td>\n",
       "      <td>31</td>\n",
       "      <td>Wednesday</td>\n",
       "      <td>11:15:00</td>\n",
       "      <td>11:15:00</td>\n",
       "      <td>12:15:00</td>\n",
       "      <td>12:00:00</td>\n",
       "      <td>OH</td>\n",
       "      <td>6570</td>\n",
       "      <td>...</td>\n",
       "      <td>CHA</td>\n",
       "      <td>106.0</td>\n",
       "      <td>5.0</td>\n",
       "      <td>31.0</td>\n",
       "      <td>NaN</td>\n",
       "      <td>NaN</td>\n",
       "      <td>15.0</td>\n",
       "      <td>NaN</td>\n",
       "      <td>NaN</td>\n",
       "      <td>2008-12-31</td>\n",
       "    </tr>\n",
       "  </tbody>\n",
       "</table>\n",
       "<p>41403 rows × 27 columns</p>\n",
       "</div>"
      ],
      "text/plain": [
       "        year     month  dayofmonth  dayofweek   deptime crsdeptime   arrtime  \\\n",
       "0       1987   October           1   Thursday  19:37:00   19:37:00  21:40:00   \n",
       "2       1987   October           1   Thursday  06:44:00   06:44:00  07:41:00   \n",
       "4       1987   October           1   Thursday  16:00:00   16:00:00  18:18:00   \n",
       "5       1987   October           1   Thursday  12:02:00   12:02:00  13:00:00   \n",
       "7       1987   October           1   Thursday  08:20:00   08:20:00  15:56:00   \n",
       "...      ...       ...         ...        ...       ...        ...       ...   \n",
       "431294  2008  December          30    Tuesday  10:20:00   10:20:00  12:48:00   \n",
       "431304  2008  December          30    Tuesday  07:00:00   07:00:00  09:02:00   \n",
       "431323  2008  December          30    Tuesday  16:31:00   16:31:00  19:35:00   \n",
       "431331  2008  December          31  Wednesday  14:40:00   14:40:00  16:00:00   \n",
       "431339  2008  December          31  Wednesday  11:15:00   11:15:00  12:15:00   \n",
       "\n",
       "       crsarrtime uniquecarrier  flightnum  ... dest  distance  taxiin  \\\n",
       "0        21:29:00            EA        734  ...  ABE     692.0     NaN   \n",
       "2        07:40:00            DL        521  ...  JAX     270.0     NaN   \n",
       "4        18:00:00            DL       1084  ...  ATL     302.0     NaN   \n",
       "5        12:45:00            DL        616  ...  ORD     606.0     NaN   \n",
       "7        15:43:00            DL        190  ...  ATL    2182.0     NaN   \n",
       "...           ...           ...        ...  ...  ...       ...     ...   \n",
       "431294   12:32:00            FL        368  ...  LGA     761.0     5.0   \n",
       "431304   08:54:00            DL       1668  ...  ATL     545.0    21.0   \n",
       "431323   19:08:00            EV       5134  ...  ATL     552.0    23.0   \n",
       "431331   15:50:00            OH       6352  ...  GSO     306.0     8.0   \n",
       "431339   12:00:00            OH       6570  ...  CHA     106.0     5.0   \n",
       "\n",
       "        taxiout  carrierdelay  weatherdelay nasdelay securitydelay  \\\n",
       "0           NaN           NaN           NaN      NaN           NaN   \n",
       "2           NaN           NaN           NaN      NaN           NaN   \n",
       "4           NaN           NaN           NaN      NaN           NaN   \n",
       "5           NaN           NaN           NaN      NaN           NaN   \n",
       "7           NaN           NaN           NaN      NaN           NaN   \n",
       "...         ...           ...           ...      ...           ...   \n",
       "431294     31.0           NaN           NaN     16.0           NaN   \n",
       "431304     17.0           NaN           NaN      NaN           NaN   \n",
       "431323     20.0           NaN           NaN     27.0           NaN   \n",
       "431331     17.0           NaN           NaN      NaN           NaN   \n",
       "431339     31.0           NaN           NaN     15.0           NaN   \n",
       "\n",
       "        lateaircraftdelay        date  \n",
       "0                     NaN  1987-10-01  \n",
       "2                     NaN  1987-10-01  \n",
       "4                     NaN  1987-10-01  \n",
       "5                     NaN  1987-10-01  \n",
       "7                     NaN  1987-10-01  \n",
       "...                   ...         ...  \n",
       "431294                NaN  2008-12-30  \n",
       "431304                NaN  2008-12-30  \n",
       "431323                NaN  2008-12-30  \n",
       "431331                NaN  2008-12-31  \n",
       "431339                NaN  2008-12-31  \n",
       "\n",
       "[41403 rows x 27 columns]"
      ]
     },
     "execution_count": 67,
     "metadata": {},
     "output_type": "execute_result"
    }
   ],
   "source": [
    "# look at rows where depdelay is zero and arrdelay is greater than 0\n",
    "df[(df.depdelay == 0) & (df.arrdelay > 0)]"
   ]
  },
  {
   "cell_type": "markdown",
   "id": "65a35d23-9aa0-4722-b50d-a773ebcf1768",
   "metadata": {},
   "source": [
    "Most of the delay columns are NaN for the subset. However, a few of the nasdelay columns are not. I'm going to take a look at the correlation heat map again, but for this subset of the data. "
   ]
  },
  {
   "cell_type": "code",
   "execution_count": 68,
   "id": "83cebb53-ea43-4810-a342-392bfdfc9acd",
   "metadata": {},
   "outputs": [
    {
     "data": {
      "image/png": "[encoded data removed]",
      "text/plain": [
       "<Figure size 936x648 with 2 Axes>"
      ]
     },
     "metadata": {
      "needs_background": "light"
     },
     "output_type": "display_data"
    }
   ],
   "source": [
    "# create variable for subset where depdelay is 0 and arrdelay greater than 0 \n",
    "zero_dep_delay = df[(df.depdelay == 0) & (df.arrdelay > 0)]\n",
    "plt.figure(figsize = (13,9))\n",
    "\n",
    "#plot correlation heatmap\n",
    "sb.heatmap(zero_dep_delay[numeric_vars].corr(),annot = True, cmap = 'vlag_r', center = 0)\n",
    "plt.title('Correlation Heatmap for Numeric Variables (depdelay of 0)');"
   ]
  },
  {
   "cell_type": "markdown",
   "id": "fd283c98-4689-4a7f-b1f0-82f4c946fa70",
   "metadata": {},
   "source": [
    "When the departure delay is zero, the only type of delay that appears is NAS delay, and it has a 1.00 correlation with the arrival delay. I'll explore more in the multivariate section. \n",
    "\n",
    "This also explains in part the difference between correlation coefficients for departure delay/NAS delay and arrival delay/NAS delay. \n",
    "\n",
    "I'll leave this for now and move onto categorical variables. Since I've only selected flights from or to Atlanta, I'll look at how arrival delay correlates with having ATL as a destination or the origin."
   ]
  },
  {
   "cell_type": "markdown",
   "id": "47b96823-f3d5-4872-ae3c-f67acfb52004",
   "metadata": {},
   "source": [
    "## Atlanta as Origin vs. Atlanta as Destination"
   ]
  },
  {
   "cell_type": "code",
   "execution_count": 69,
   "id": "65633e20-2a24-432b-922a-d877fa268e09",
   "metadata": {},
   "outputs": [
    {
     "data": {
      "image/png": "[encoded data removed]",
      "text/plain": [
       "<Figure size 576x360 with 1 Axes>"
      ]
     },
     "metadata": {
      "needs_background": "light"
     },
     "output_type": "display_data"
    }
   ],
   "source": [
    "# create subsets with ATL as origin and destination\n",
    "orig_atl_subset = df.query(\"origin == 'ATL'\")\n",
    "dest_atl_subset = df.query(\"dest == 'ATL'\")\n",
    "\n",
    "bins = np.arange(df.arrdelay.min(), df.arrdelay.max() + 1, 1)\n",
    "\n",
    "# plot overlayed histogram of both subsets' arrdelay distribution\n",
    "plt.figure(figsize = (8,5))\n",
    "plt.hist(orig_atl_subset['arrdelay'], bins = bins, alpha = 0.5, label = 'origin')\n",
    "plt.hist(dest_atl_subset['arrdelay'], bins = bins, alpha = 0.5, label = 'destination')\n",
    "plt.legend()\n",
    "plt.title('Arrival Delay: ATL as origin vs. ATL as Destination')\n",
    "plt.xlabel('arrival delay (in mins)')\n",
    "\n",
    "# recycle xlims from univariate histogram\n",
    "plt.xlim(df.arrdelay.min() - 1, 200);"
   ]
  },
  {
   "cell_type": "markdown",
   "id": "a0d95137-8d33-47db-9e24-0c9e1c34d588",
   "metadata": {},
   "source": [
    "The two distributions are very similar. The distribution with ATL as origin is slightly more to the right than the destination distribution.\n",
    "\n",
    "Nothing interesting here. I'm going to move on to day of the week and month against arrival delay."
   ]
  },
  {
   "cell_type": "markdown",
   "id": "49d9c491-e055-41ff-ae4e-2b59b0e3b386",
   "metadata": {},
   "source": [
    "## Day of Week Against Arrdelay"
   ]
  },
  {
   "cell_type": "code",
   "execution_count": 70,
   "id": "5667bb7e-af1d-48d5-bf53-57f0e5da5c16",
   "metadata": {},
   "outputs": [
    {
     "data": {
      "image/png": "[encoded data removed]",
      "text/plain": [
       "<Figure size 576x360 with 1 Axes>"
      ]
     },
     "metadata": {
      "needs_background": "light"
     },
     "output_type": "display_data"
    }
   ],
   "source": [
    "# plot a boxplot for weekdays \n",
    "plt.figure(figsize = (8,5))\n",
    "sb.boxplot(data = df, y = 'arrdelay', x = 'dayofweek', color = base_color)\n",
    "plt.title('Arrival Delays for Each Day of the Week')\n",
    "plt.xlabel('Day')\n",
    "plt.ylabel('Arrival Delay');"
   ]
  },
  {
   "cell_type": "code",
   "execution_count": 71,
   "id": "45519d04-74b9-4f85-9e6d-f8ac0e66944f",
   "metadata": {},
   "outputs": [
    {
     "data": {
      "image/png": "[encoded data removed]",
      "text/plain": [
       "<Figure size 576x360 with 1 Axes>"
      ]
     },
     "metadata": {
      "needs_background": "light"
     },
     "output_type": "display_data"
    }
   ],
   "source": [
    "# remove outliers to see distribution more clearly\n",
    "plt.figure(figsize = (8,5))\n",
    "sb.boxplot(data = df, y = 'arrdelay', x = 'dayofweek', showfliers = False, color = base_color)\n",
    "plt.title('Arrival Delays for Each Day of the Week')\n",
    "plt.xlabel('Day')\n",
    "plt.ylabel('Arrival Delay');"
   ]
  },
  {
   "cell_type": "markdown",
   "id": "88d1074c-8a65-4a06-bb0d-af94d0723dc7",
   "metadata": {},
   "source": [
    "From the boxplot it seems Thursdays and Fridays tend to have higher arrival delays, and Saturdays have the lowest. But it doesn't seem to be a huge difference. I'm going to use a bivariate barplot to see the medians more clearly."
   ]
  },
  {
   "cell_type": "code",
   "execution_count": 72,
   "id": "7da0107e-a4b6-4560-a069-0ef4333be76f",
   "metadata": {},
   "outputs": [
    {
     "data": {
      "image/png": "[encoded data removed]",
      "text/plain": [
       "<Figure size 576x360 with 1 Axes>"
      ]
     },
     "metadata": {
      "needs_background": "light"
     },
     "output_type": "display_data"
    }
   ],
   "source": [
    "# plot barplot to see median arrdelay for weekdays\n",
    "plt.figure(figsize = (8,5))\n",
    "\n",
    "sb.barplot(data = df, y = 'arrdelay', x = 'dayofweek', estimator = np.median, color = base_color, errwidth = 0)\n",
    "plt.title('Median Arrival Delay for Each Day of the Week')\n",
    "plt.xlabel('Day')\n",
    "plt.ylabel('Arrival Delay');"
   ]
  },
  {
   "cell_type": "markdown",
   "id": "3bc61b4e-f6db-45ba-b1df-f54e9a05b096",
   "metadata": {},
   "source": [
    "I've chosen to use the median because there are many outliers, and the distribution isn't symmetrical. \n",
    "\n",
    "The bar plot gives more clarity as to where the median is. Pracitcally, there is no significant difference between arrival times for certain days of the week. "
   ]
  },
  {
   "cell_type": "markdown",
   "id": "0cc9184e-66f7-444f-b2fb-2a7a73a3ea6a",
   "metadata": {},
   "source": [
    "## Month against Arrdelay"
   ]
  },
  {
   "cell_type": "code",
   "execution_count": 73,
   "id": "a3932e60-4b13-495b-b9f3-54f369115ab6",
   "metadata": {},
   "outputs": [
    {
     "data": {
      "image/png": "[encoded data removed]",
      "text/plain": [
       "<Figure size 936x360 with 1 Axes>"
      ]
     },
     "metadata": {
      "needs_background": "light"
     },
     "output_type": "display_data"
    }
   ],
   "source": [
    "# plot boxplot to see distribution of arrdelay per month\n",
    "plt.figure(figsize = ( 13, 5))\n",
    "sb.boxplot(data = df, x = 'month', y = 'arrdelay', color = base_color, showfliers = False)\n",
    "plt.xticks(rotation = 15)\n",
    "plt.title('Arrival Delays by Month')\n",
    "plt.ylabel('arrival delay');"
   ]
  },
  {
   "cell_type": "markdown",
   "id": "115fea88-d593-4b23-8b95-2e8a0af86355",
   "metadata": {},
   "source": [
    "The boxplot shows high delays in winter months as well as high delays in summer months. Delays in spring and fall are closer to zero. But like with days of the week, the difference does not appear to be significant. I'm going to view the medians with a barplot, like before. "
   ]
  },
  {
   "cell_type": "code",
   "execution_count": 74,
   "id": "61011ed3-5707-4949-a5dc-4c1190519f4e",
   "metadata": {},
   "outputs": [
    {
     "data": {
      "image/png": "[encoded data removed]",
      "text/plain": [
       "<Figure size 936x360 with 1 Axes>"
      ]
     },
     "metadata": {
      "needs_background": "light"
     },
     "output_type": "display_data"
    }
   ],
   "source": [
    "# plot barplot to zoom in on difference in median\n",
    "plt.figure(figsize = ( 13, 5))\n",
    "sb.barplot(data = df, x = 'month', y = 'arrdelay', color = base_color, estimator = np.median, errwidth = 0)\n",
    "plt.xticks(rotation = 15);"
   ]
  },
  {
   "cell_type": "markdown",
   "id": "4f05a169-da94-4d78-880c-5e43505e8b88",
   "metadata": {},
   "source": [
    "There is not significant difference in median arrival delays between months. It would be interesting to see if there is a correlation between weather and the higher delays in winter months, as I suspect. Strangely, the other two months that stand out, June and July, are summer months. I know from the univariate plots that there is no significant difference in flight volume between months for this sample, so I would like to look into what that can be attributed to.\n",
    "\n",
    "I'm going to use a heatmap, and get the counts of each type of delays, to see if one delay is more common for a certain month. Bearing in mind that this will only be for data after 2003, because I don't have the records for delay type before 2004. "
   ]
  },
  {
   "cell_type": "code",
   "execution_count": 75,
   "id": "5f531957-02e9-4dbd-aa34-dc9143eb5457",
   "metadata": {},
   "outputs": [
    {
     "data": {
      "image/png": "[encoded data removed]",
      "text/plain": [
       "<Figure size 936x360 with 2 Axes>"
      ]
     },
     "metadata": {
      "needs_background": "light"
     },
     "output_type": "display_data"
    }
   ],
   "source": [
    "# groupby month and get count of each delay column\n",
    "delay_counts = df.groupby('month').count()[delay_cols]\n",
    "\n",
    "plt.figure(figsize = ( 13, 5))\n",
    "#plot heatmap\n",
    "sb.heatmap(delay_counts, annot = True, cmap = 'vlag_r', center = 0, fmt='g')\n",
    "plt.title('Types of Delays by Month 2004-2008')\n",
    "plt.xlabel('delay type');"
   ]
  },
  {
   "cell_type": "markdown",
   "id": "1bca02c6-c0b7-4a9c-9188-0a15f5be95ec",
   "metadata": {},
   "source": [
    "It seems like for all the delay types except security where there is not enough data, there are lulls in spring and autumn and spikes in winter and summer. I was incorrect about weather and winter months though. There are surprisingly more weather delays in the summer months than in the winter months. "
   ]
  },
  {
   "cell_type": "markdown",
   "id": "a7f4eeae-9de5-4b70-bd8a-44bd50ac5468",
   "metadata": {},
   "source": [
    "## Airport Against Arrdelay\n",
    "Now I want to see how different airports perform in terms of departure delay going to or from ATL. Given the number of airports, I will again get the top thirty in terms of total flights as destination and as origin(this time including ATL), and see the median arrival delay with a barplot."
   ]
  },
  {
   "cell_type": "code",
   "execution_count": 76,
   "id": "a8290f9d-f993-4624-9cf1-d8af1d02fedc",
   "metadata": {},
   "outputs": [
    {
     "data": {
      "image/png": "[encoded data removed]",
      "text/plain": [
       "<Figure size 1080x504 with 2 Axes>"
      ]
     },
     "metadata": {
      "needs_background": "light"
     },
     "output_type": "display_data"
    }
   ],
   "source": [
    "# one plot for destination and one for origin\n",
    "fig, ax = plt.subplots(1,2, figsize = (15,7))\n",
    "\n",
    "# get top 30 airports\n",
    "all_origins = df.origin.value_counts()[:31].index\n",
    "all_destinations = df.dest.value_counts()[:31].index\n",
    "\n",
    "# get above airports ordered by median arrdelay in descending order\n",
    "order1 = df[df.origin.isin(all_origins)].groupby('origin').median()['arrdelay'].sort_values(ascending = False).index\n",
    "order2 = df[df.dest.isin(all_destinations)].groupby('dest').median()['arrdelay'].sort_values(ascending = False).index\n",
    "\n",
    "\n",
    "# plot barplots \n",
    "sb.barplot(data = df[df.origin.isin(all_origins)], y = 'origin', x = 'arrdelay',\n",
    "           color = base_color, order = order1, estimator = np.median, errwidth = 0, ax = ax[0])\n",
    "ax[0].set_title('Airports as Origin')\n",
    "ax[0].set_xlabel('Arrival Delay (in mins)')\n",
    "sb.barplot(data = df[df.dest.isin(all_destinations)], y = 'dest', x = 'arrdelay',color = base_color,\n",
    "           order = order2, estimator = np.median, errwidth = 0, ax = ax[1])\n",
    "ax[1].set_title('Airports as Destination')\n",
    "ax[1].set_xlabel('Arrival Delay (in mins)')\n",
    "ax[1].set_ylabel('Destination');\n",
    "\n"
   ]
  },
  {
   "cell_type": "markdown",
   "id": "3589d18f-cbe1-4f8a-95e2-bd6e9df66777",
   "metadata": {},
   "source": [
    "For most airports, the difference in medians is not interesting. LAX tops the list both as origin and destination from ATL, however. And as a destination, it has a median arrdelay of 8 minutes, which is a higher than the other airports. I would like to explore this further in the multivariate section of my analysis. \n",
    "\n",
    "I'll now move onto the final categorical variable of interest, carrier."
   ]
  },
  {
   "cell_type": "markdown",
   "id": "62e48833-d6f7-4154-83fc-9b96a7dfa927",
   "metadata": {},
   "source": [
    "## Unique Carrier against Arrdelay"
   ]
  },
  {
   "cell_type": "code",
   "execution_count": 77,
   "id": "824dc976-33bf-448d-9407-daca4b13f93d",
   "metadata": {},
   "outputs": [
    {
     "data": {
      "text/plain": [
       "<AxesSubplot:xlabel='arrdelay', ylabel='uniquecarrier'>"
      ]
     },
     "execution_count": 77,
     "metadata": {},
     "output_type": "execute_result"
    },
    {
     "data": {
      "image/png": "[encoded data removed]",
      "text/plain": [
       "<Figure size 504x504 with 1 Axes>"
      ]
     },
     "metadata": {
      "needs_background": "light"
     },
     "output_type": "display_data"
    }
   ],
   "source": [
    "# get carriers by order of median arrival delay\n",
    "order = df.groupby('uniquecarrier').median()['arrdelay'].sort_values(ascending = False).index\n",
    "\n",
    "# plot barplot\n",
    "plt.figure(figsize = (7, 7))\n",
    "sb.barplot(data = df, y = 'uniquecarrier', x = 'arrdelay', order = order,\n",
    "            errwidth = 0, color = base_color, estimator = np.median)"
   ]
  },
  {
   "cell_type": "code",
   "execution_count": 78,
   "id": "a8e27b3f-de12-4eb1-8d60-f648c559d6ef",
   "metadata": {},
   "outputs": [
    {
     "data": {
      "image/png": "[encoded data removed]",
      "text/plain": [
       "<Figure size 504x504 with 1 Axes>"
      ]
     },
     "metadata": {
      "needs_background": "light"
     },
     "output_type": "display_data"
    }
   ],
   "source": [
    "# replot above bar graph for better readability\n",
    "plt.figure(figsize = (7, 7))\n",
    "sb.barplot(data = df, y = 'uniquecarrier', x = 'arrdelay', order = order,\n",
    "            errwidth = 0, color = base_color, estimator = np.median)\n",
    "\n",
    "\n",
    "# add axvline on x = 0 for negative bar values\n",
    "plt.axvline(x = 0, color = 'grey')\n",
    "# xlims to zoom in \n",
    "plt.xlim(-11, 11)\n",
    "plt.title('Arrival Delay by Carrier')\n",
    "plt.xlabel('Arrival Delay')\n",
    "plt.ylabel('Unique Carrier');"
   ]
  },
  {
   "cell_type": "markdown",
   "id": "85daad22-9e26-4edc-8b72-1c6ae0dcb9ab",
   "metadata": {},
   "source": [
    "Like with months and days of the week, there are no significant differences in arrival delay across carriers. The exceptions are ML (Air Méditerranée) and B6 (JetBlue), which have negative values. However, I know from univariate plotting that these two airlines have a negligible amount of flights in the dataset, so it would not be interesting to investigate further. "
   ]
  },
  {
   "cell_type": "markdown",
   "id": "6f3b4706-a6a9-4366-a7ee-0c44f60ee042",
   "metadata": {},
   "source": [
    "## Bivariate Findings\n",
    "Many of the features did not have a strong correlation with Arrival delay, besides the different delay types, which is inevitable. It was intesting to see that departure delay has a very strong correlation with arrival delay, which means that many delays are in part affected by an event that happens before takeoff. In the event that there is an arrival delay but no departure delay, the only delay type that appears is NAS delay. \n",
    "\n",
    "There was also a surprising relationship between arrival delay and month. I expected higher delays in winter and was correct, but it seems delays are comparably high and more common in the summer months. \n",
    "\n",
    "Finally, although arrival delays between the different airports did not vary too much in general, there is a noticeably high median arrival delay to LAX as a destination from ATL. \n",
    "\n"
   ]
  },
  {
   "cell_type": "markdown",
   "id": "07193413-a650-43d8-9252-47036da45946",
   "metadata": {},
   "source": [
    "# Multivariate Exploration\n",
    "In this section, I want to take a look at the most interesting relationships I found in the bivariate exploration, the relationship between departure delay and arrival delay, and LAX as a destination against arrival delay. \n",
    "\n",
    "## NAS, Departure and Arrival Delays\n",
    "In the preivous section I noticed that NAS delays were the exclusive delays for arrival delays with a departure delay of 0. I would like to plot this relationship.\n",
    "\n",
    "I'm going to make  a scatterplot and use color encodings to show which arrival delays have NAS delays and which do not for flights in the year 2004 and after, because before 2004 there is not data for delay type. \n",
    "\n",
    "To avoid overplotting, I'll use a sample of 1000 flights.\n",
    "\n",
    "\n"
   ]
  },
  {
   "cell_type": "code",
   "execution_count": 79,
   "id": "c3a60f34-56a3-4b8f-9acf-c2088e2a2b87",
   "metadata": {},
   "outputs": [
    {
     "name": "stderr",
     "output_type": "stream",
     "text": [
      "/var/folders/gk/95gf3_y15dbfnfjxtd6m4dd40000gn/T/ipykernel_1951/1989522977.py:5: SettingWithCopyWarning: \n",
      "A value is trying to be set on a copy of a slice from a DataFrame.\n",
      "Try using .loc[row_indexer,col_indexer] = value instead\n",
      "\n",
      "See the caveats in the documentation: https://pandas.pydata.org/pandas-docs/stable/user_guide/indexing.html#returning-a-view-versus-a-copy\n",
      "  post_2003['temp_delay_types'] = 'other'\n",
      "/Library/Frameworks/Python.framework/Versions/3.9/lib/python3.9/site-packages/pandas/core/indexing.py:1817: SettingWithCopyWarning: \n",
      "A value is trying to be set on a copy of a slice from a DataFrame.\n",
      "Try using .loc[row_indexer,col_indexer] = value instead\n",
      "\n",
      "See the caveats in the documentation: https://pandas.pydata.org/pandas-docs/stable/user_guide/indexing.html#returning-a-view-versus-a-copy\n",
      "  self._setitem_single_column(loc, value, pi)\n"
     ]
    }
   ],
   "source": [
    "# make df of flights after 2003 so delay types are recorded\n",
    "post_2003 = df.query(\"year > 2003\")\n",
    "\n",
    "# create column temp_delay_types and set default value to other\n",
    "post_2003['temp_delay_types'] = 'other'\n",
    "\n",
    "# set temp_delay_types to 'nas' where there is NAS delay\n",
    "post_2003.loc[~post_2003.nasdelay.isnull(), 'temp_delay_types'] = 'NAS'\n",
    "\n",
    "# where there is no delay stated, set temp_delay_types to 'not stated'\n",
    "post_2003.loc[(post_2003.nasdelay.isnull()) & (post_2003.weatherdelay.isnull()) & (post_2003.lateaircraftdelay.isnull())\n",
    "       & (post_2003.securitydelay.isnull()) & (post_2003.carrierdelay.isnull()), 'temp_delay_types'] = 'not stated'"
   ]
  },
  {
   "cell_type": "code",
   "execution_count": 91,
   "id": "907e40d1-8bd8-49ff-a53c-a8f883d1f4ef",
   "metadata": {},
   "outputs": [
    {
     "data": {
      "image/png": "[encoded data removed]",
      "text/plain": [
       "<Figure size 576x360 with 1 Axes>"
      ]
     },
     "metadata": {
      "needs_background": "light"
     },
     "output_type": "display_data"
    }
   ],
   "source": [
    "# get sample of 1000 flights where delay type IS stated\n",
    "sample = post_2003[post_2003.temp_delay_types != 'not stated'].sample(1000)\n",
    "colordict = {'nas': 'dodgerblue', 'other': 'firebrick'}\n",
    "# plot scatterplot\n",
    "plt.figure(figsize = (8,5))\n",
    "\n",
    "colordict = {'NAS': 'dodgerblue', 'other': 'firebrick'}\n",
    "\n",
    "sb.scatterplot(data = sample, x = 'depdelay', y = 'arrdelay', hue = 'temp_delay_types', alpha = 0.3, palette = colordict)\n",
    "plt.xlabel('Departure Delay (in mins)')\n",
    "plt.ylabel('Arrival Delay (in mins)')\n",
    "plt.legend(title = 'Type of Delay')\n",
    "plt.title('Relationship Between Departure Delays and Arrival Delays');"
   ]
  },
  {
   "cell_type": "markdown",
   "id": "321dceb1-0f05-48a6-bdc9-38717d9da92d",
   "metadata": {},
   "source": [
    "The above graph makes it clear that where there is no departure delay, the only delay type is NAS. It also seems that it accounts for many of the shorter departure delays, and generally results in a higher arrival delay.\n",
    "\n",
    "When NAS delay is not present, the relationship between departure delay and arrival delay is more perfectly linear."
   ]
  },
  {
   "cell_type": "markdown",
   "id": "ce138dfd-2de4-4a6c-ac1d-1c9a851bf1e2",
   "metadata": {},
   "source": [
    "## LAX: Delay Types\n",
    "To get a lead on different potential explanations for LAX's high median arrival delay, I would like to see if it has more of a certain type of delay, as compared to the entire dataset. Since there is a huge difference in size between a subset of LAX destination flights and the entire dataset, I'm going to look at the percentage of LAX destination delays that are of each type, and do the same for the entire dataset."
   ]
  },
  {
   "cell_type": "code",
   "execution_count": 81,
   "id": "8e60a5ff-013b-4c29-bbd5-2352f43ae7e9",
   "metadata": {},
   "outputs": [],
   "source": [
    "# get count of each delay type for LAX destination subset\n",
    "lax_delay_counts = df[df.dest == 'LAX'].count()[delay_cols]\n",
    "\n",
    "# get total number of delays\n",
    "total_lax_del_counts = lax_delay_counts.sum()\n",
    "\n",
    "# get percentages\n",
    "lax_del_props = (lax_delay_counts / total_lax_del_counts) * 100"
   ]
  },
  {
   "cell_type": "code",
   "execution_count": 82,
   "id": "52c1eda3-3863-4569-8a61-31c41d106437",
   "metadata": {},
   "outputs": [],
   "source": [
    "# reuse above process for entire dataset\n",
    "delay_counts = df.count()[delay_cols]\n",
    "total_delay_count = delay_counts.sum()\n",
    "delay_props = (delay_counts / total_delay_count) * 100"
   ]
  },
  {
   "cell_type": "code",
   "execution_count": 83,
   "id": "b77ee08e-bdf8-4346-95d6-66531c3c806f",
   "metadata": {},
   "outputs": [
    {
     "data": {
      "image/png": "[encoded data removed]",
      "text/plain": [
       "<Figure size 576x360 with 1 Axes>"
      ]
     },
     "metadata": {
      "needs_background": "light"
     },
     "output_type": "display_data"
    }
   ],
   "source": [
    "# plot clustered bar chart with percentages \n",
    "labels = delay_props.index\n",
    "\n",
    "ind = np.arange(len(lax_del_props))\n",
    "width = 0.2\n",
    "\n",
    "plt.figure(figsize = (8,5))\n",
    "lax_bar = plt.bar(ind,lax_del_props, width, label = 'LAX')\n",
    "total_bar = plt.bar(ind + width, delay_props, width, label = 'All Flights', color = 'lightgrey')\n",
    "locations = ind + width / 2 \n",
    "plt.xticks(locations, labels,fontsize = 9)\n",
    "plt.title('Delay Type as Percentage of Total # Delays')\n",
    "plt.ylabel('Percent')\n",
    "plt.legend();"
   ]
  },
  {
   "cell_type": "markdown",
   "id": "54e5e0ef-8977-4108-a070-7630e4b471f6",
   "metadata": {},
   "source": [
    "Looking at the above graph, I see that LAX as a destination has a higher instance of carrier delays and NAS delays, but not by much. I know from the previous plot that NAS delays tend to cause longer arrival delays, so that could be contributing to its high arrival delays. Other than that, looking at how carrier and airport interact against arrival delay might be interesting to see what is happening at LAX. \n",
    "\n",
    "## Arrival Delay by Carrier for LAX vs. All Flights"
   ]
  },
  {
   "cell_type": "code",
   "execution_count": 84,
   "id": "2dcaf2da-7781-4d1f-99a9-9b46cd483412",
   "metadata": {},
   "outputs": [
    {
     "data": {
      "image/png": "[encoded data removed]",
      "text/plain": [
       "<Figure size 1152x432 with 1 Axes>"
      ]
     },
     "metadata": {
      "needs_background": "light"
     },
     "output_type": "display_data"
    }
   ],
   "source": [
    "# create column to signal flights that have LAX as destination, set default to 'other airport'\n",
    "df['lax_or_not'] = 'Other Airport'\n",
    "\n",
    "# for flights with LAX as dest, set lax_or_not column value to 'LAX'\n",
    "df.loc[(df['dest'] == 'LAX') | (df['origin'] == 'LAX'), 'lax_or_not'] = 'LAX'\n",
    "\n",
    "# get list of carriers that serve ATL-LAX\n",
    "laxcarriers = df[df.dest == 'LAX'].uniquecarrier.value_counts().index\n",
    "\n",
    "# plot boxplot of Arrival delay by carrier \n",
    "plt.figure(figsize = (16, 6))\n",
    "labels = ['All Airports','LAX']\n",
    "sb.boxplot(data = df[df.uniquecarrier.isin(laxcarriers)],\n",
    "           x = 'lax_or_not', y = 'arrdelay', hue = 'uniquecarrier', showfliers = False, palette = 'Pastel1');\n",
    "plt.ylabel('Arrival Delay (in mins)')\n",
    "plt.xlabel('Airport')\n",
    "plt.title('Arrival Delay by Carrier')\n",
    "plt.xticks(ticks = [0,1], labels = labels)\n",
    "plt.legend(title = 'Carrier');"
   ]
  },
  {
   "cell_type": "markdown",
   "id": "35efa8b5-7f7f-486e-b2eb-5bca001a657d",
   "metadata": {},
   "source": [
    "Three out of the four carriers that serve ATL-LAX have a five-number summary tending toward higher delays when LAX is the destination, as opposed to when the destination is any other airport in this dataset. I'll check the value counts for the carriers. I suspect that UA's performance at LAX looks better because it has relatively very few flights. "
   ]
  },
  {
   "cell_type": "code",
   "execution_count": 85,
   "id": "5d479282-8eef-4287-91c6-1355b5dd723a",
   "metadata": {},
   "outputs": [
    {
     "data": {
      "text/plain": [
       "DL    2308\n",
       "FL     158\n",
       "EA     141\n",
       "UA      23\n",
       "Name: uniquecarrier, dtype: int64"
      ]
     },
     "execution_count": 85,
     "metadata": {},
     "output_type": "execute_result"
    }
   ],
   "source": [
    "# check carrier counts with destination LAX\n",
    "df[df.dest == 'LAX'].uniquecarrier.value_counts()"
   ]
  },
  {
   "cell_type": "markdown",
   "id": "404a0c5e-b06f-4ad6-841d-3d082d449a2f",
   "metadata": {},
   "source": [
    "I was correct in the assumption. Since the trend seems to affect the three major carriers similarly, from the above graph I can only confirm that LAX generally has higher delays, which I already knew. "
   ]
  },
  {
   "cell_type": "markdown",
   "id": "d201c9c3-1618-44e1-a1b0-b26099d9bdd7",
   "metadata": {},
   "source": [
    "## Arrival Delay For Destination Airports (LAX) by Season\n",
    "Since I know that there is a difference in median arrival delay by month, I would like to see how months interact with airports, and LAX in particular, with respect to arrival delay. \n",
    "\n",
    "To avoid overplotting, I'm only going to look at destination airports with the highest median arrival delays, from the bivariate section. This will include LAX. \n",
    "\n",
    "Also, since I've seen that generally, summer and winter months have higher delays, I will group the months into seasons to reduce overplotting. "
   ]
  },
  {
   "cell_type": "markdown",
   "id": "28b538d9-9c54-41a1-9e8f-2baa955b03cd",
   "metadata": {},
   "source": [
    "\n",
    "\n"
   ]
  },
  {
   "cell_type": "code",
   "execution_count": 86,
   "id": "a51e3970-4014-4e31-85b3-92c2e38eb62d",
   "metadata": {},
   "outputs": [],
   "source": [
    "# write function to get season for each month\n",
    "def get_season(month):\n",
    "    \"\"\" Take month name as string. Return corresponding season as string. \"\"\"\n",
    "    if month in ['December','January','February']:\n",
    "        return 'winter'\n",
    "    elif month in ['March','April','May']:\n",
    "        return 'spring'\n",
    "    elif month in ['June','July','August']:\n",
    "        return 'summer'\n",
    "    else:\n",
    "        return 'fall'"
   ]
  },
  {
   "cell_type": "code",
   "execution_count": 87,
   "id": "fc1b1f1b-7dd1-4ea6-85de-7faf5eda2e15",
   "metadata": {},
   "outputs": [],
   "source": [
    "# create season column with above function\n",
    "df['season'] = df['month'].apply(lambda x: get_season(x))"
   ]
  },
  {
   "cell_type": "code",
   "execution_count": 88,
   "id": "809b3fa9-5cc9-4366-947a-ed94d699e525",
   "metadata": {},
   "outputs": [
    {
     "data": {
      "image/png": "[encoded data removed]",
      "text/plain": [
       "<Figure size 1440x648 with 2 Axes>"
      ]
     },
     "metadata": {
      "needs_background": "light"
     },
     "output_type": "display_data"
    }
   ],
   "source": [
    "\n",
    "# reuse variable order2, get top ten airports with highest arrival delay median\n",
    "dfdest = df[df.dest.isin(order2[:10])]\n",
    "\n",
    "# get median grouped by dest and season columns, reform for heatmap\n",
    "season_dest_medians = dfdest.groupby(['dest', 'season']).median()['arrdelay']\n",
    "season_dest_medians = season_dest_medians.reset_index(name = 'arrdelay_median')\n",
    "season_dest_medians = season_dest_medians.pivot(index = 'season', columns = 'dest',\n",
    "                            values = 'arrdelay_median')\n",
    "\n",
    "# plot heatmap \n",
    "plt.figure(figsize = (20, 9))\n",
    "sb.heatmap(season_dest_medians, annot = True, fmt = '.3f',\n",
    "           cbar_kws = {'label' : 'median arrival delay'}, cmap = 'vlag_r', center = 0)\n",
    "plt.xlabel('destination airport')\n",
    "plt.title('Ten Worst Airports for Delays by Season');"
   ]
  },
  {
   "cell_type": "markdown",
   "id": "39fde90c-4a67-4bb6-abe0-e2d665c12886",
   "metadata": {},
   "source": [
    "Although LAX generally has a higher median arrival delay than the other 9 airports, it spikes considerably in winter. For the other airports, the summer and winter months are almost equal. The airports generally follow the findings on month against arrival delay from the bivariate section. "
   ]
  },
  {
   "cell_type": "markdown",
   "id": "bead448a-e363-4899-82dc-f43db9b64a9a",
   "metadata": {},
   "source": [
    "## Multivariate Findings\n",
    "In this section, I confirmed the relationship between NAS delay and a departure delay of 0. It is the only recorded delay type for flights where this occurs. I also saw graphically that NAS delays generally result in higher arrival delays than other types.\n",
    "\n",
    "I looked further into why LAX as a destination has such high arrival delays. I saw that it has a higher proportion of both carrier delays and NAS delays. The latter could in part explain the difference, as I observed that NAS delays are generally longer. I did not find any particular carrier that performed markedly worse when going to LAX from ATL, however. \n",
    "\n",
    "LAX also has a considerable spike in median arrival delay for the winter months compared to other airports I analyzed."
   ]
  },
  {
   "cell_type": "markdown",
   "id": "b2742202-1667-414e-8fb5-103147521f6c",
   "metadata": {},
   "source": [
    "# Conclusions\n",
    "Throughout my analysis of the Atlanta flights data, I searched for features that correlated strongly with arrival delay. I began with univariate analysis of the feature of interest and all other features I thought might be used to predict it. Knowledge of the distribution of each variable was useful for decision-making later in the analysis. I then moved on to bivariate exploration, focusing on how each variable interacted with arrival delay. Lastly, in the multivariate section of my analysis, I further investigated the strongest relationships I found in the bivariate section. \n",
    "\n",
    "At the beginning of analysis, my expectations were that distance, month and airport would be good predictors of arrival delay. In the end, distance had no correlation with arrival delay. Month of the year, on the other hand, *did* show an interesting pattern. The summer and winter months had slight spikes in median arrival delay, and counts of all the delay types grouped by month were highest in those months.\n",
    "\n",
    "Arrival delay also varied by airport and whether or not the airport was origin or destination from ATL, although most of the airports I investigated(top 30 for highest median arrival delay) did not vary greatly. LAX did, however, so I investigated further in the multivariate section of analysis. Exploration there led me to conclude that in winter, median arrival delay at LAX as a destination from ATL spikes greatly compared to other airports with high delays. The airport as destination also suffers from a higher instance of NAS delays than the dataset at large. I found that these types of delays tend to result in longer arrival delays.\n",
    "\n",
    "Beyond debunking or confirming my initial assumption, I also found that departure delay is strongly correlated with arrival delay, implying that many arrival delays are caused in part by a delay before takeoff. When there was no departure delay, the only delay type that appears is the NAS delay, for National Aviation System. According to the Bureau of Transportation Statistics (https://www.bts.gov/topics/airlines-and-airports/understanding-reporting-causes-flight-delays-and-cancellations accessed March 3, 2022), NAS delays can mean several different things, although non-severe weather problems represent a large percentage each year.\n",
    "\n",
    "Finally, as this dataset only involves flights to and from Atlanta, I wanted to see if ATL had higher delays as a destination or an origin, and concluded that the distribution of arrival delays for the two are virtually the same. "
   ]
  },
  {
   "cell_type": "code",
   "execution_count": 89,
   "id": "57f78034-377a-4de4-b92d-509205361e5b",
   "metadata": {},
   "outputs": [],
   "source": [
    "# save dataset with all engineered columns and with dropped rows from bivariate secion, to use in presentation\n",
    "df.to_csv('POST_analysis_combined_atl_flights.csv', index = False)"
   ]
  }
 ],
 "metadata": {
  "kernelspec": {
   "display_name": "Python 3 (ipykernel)",
   "language": "python",
   "name": "python3"
  },
  "language_info": {
   "codemirror_mode": {
    "name": "ipython",
    "version": 3
   },
   "file_extension": ".py",
   "mimetype": "text/x-python",
   "name": "python",
   "nbconvert_exporter": "python",
   "pygments_lexer": "ipython3",
   "version": "3.9.6"
  }
 },
 "nbformat": 4,
 "nbformat_minor": 5
}
